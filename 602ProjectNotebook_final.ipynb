{
  "nbformat": 4,
  "nbformat_minor": 0,
  "metadata": {
    "colab": {
      "name": "602ProjectNotebook final.ipynb",
      "provenance": [],
      "collapsed_sections": []
    },
    "kernelspec": {
      "display_name": "Python 3",
      "name": "python3"
    }
  },
  "cells": [
    {
      "cell_type": "markdown",
      "metadata": {
        "id": "k8PTjGB-6JA1"
      },
      "source": [
        "# Systematic Evaluation of Supervised Learning Algorithms in Credit Fraud Detection and the Impact of PCA-1 Augmentation\n",
        "*Hannah Laper and Adam Wachsman*\n",
        " \n",
        " \n",
        " \n",
        "In this notebook we explored the creditcard.csv dataset.  This notebook gives anonymized information, the amount of the transaction, and whether the transaction is fraudulent (0 is normal, 1 is fraud).\n",
        "\n",
        "In this notebook, we looked at different classification machine learning techniques to see which have the best accuracy and precision.  We did logistic regression, SVM, random forest, and Neural Networks to see which model has the best accuracy. In addition, we tested these models using a version of the dataset augmented with outlier scores based on PCA reconstruction error"
      ]
    },
    {
      "cell_type": "code",
      "metadata": {
        "id": "83ntOCMW91xc"
      },
      "source": [
        "#Import Neccessary Libraries\n",
        "import time\n",
        "import numpy as np\n",
        "import pandas as pd\n",
        "import matplotlib.pyplot as plt\n",
        "import seaborn as sns\n",
        "from mlxtend.plotting import scatterplotmatrix\n",
        "from sklearn.model_selection import GridSearchCV\n",
        "\n",
        "from sklearn import metrics\n",
        "from sklearn.linear_model import LogisticRegressionCV\n",
        "from sklearn.model_selection import train_test_split\n",
        "from sklearn import svm\n",
        "from sklearn.metrics import classification_report, confusion_matrix\n",
        "from sklearn.ensemble import RandomForestClassifier\n",
        "from sklearn.model_selection import RandomizedSearchCV\n",
        "\n",
        "from sklearn import preprocessing\n",
        "from keras.models import Sequential\n",
        "from keras.layers import Dense\n"
      ],
      "execution_count": null,
      "outputs": []
    },
    {
      "cell_type": "code",
      "metadata": {
        "id": "HxMV0RNRFLx8",
        "colab": {
          "base_uri": "https://localhost:8080/"
        },
        "outputId": "d5f9d670-1d67-4825-c7cf-f7440fb84a97"
      },
      "source": [
        "# Display library versions\n",
        "print('Numpy ver.',np.__version__)\n",
        "print('Pandas ver.',pd.__version__)\n",
        "from sklearn import __version__ as sklearnversion\n",
        "print('scikitlearn ver.',sklearnversion)\n",
        "from mlxtend import __version__ as mlxversion\n",
        "print('mlxtend ver.',mlxversion)\n",
        "from keras import __version__ as kerasversion\n",
        "print('keras ver.',kerasversion)"
      ],
      "execution_count": null,
      "outputs": [
        {
          "output_type": "stream",
          "text": [
            "Numpy ver. 1.18.5\n",
            "Pandas ver. 1.1.3\n",
            "scikitlearn ver. 0.23.2\n",
            "mlxtend ver. 0.18.0\n",
            "keras ver. 2.4.3\n"
          ],
          "name": "stdout"
        }
      ]
    },
    {
      "cell_type": "code",
      "metadata": {
        "colab": {
          "base_uri": "https://localhost:8080/"
        },
        "id": "wjqgBVL4Gfi8",
        "outputId": "0c340eaa-8a2d-47a0-a233-b7672a70b3e8"
      },
      "source": [
        "# matplotlib and seaborn do not seem to use typical versioning conventions,\n",
        "# versions accessed using pip instead\n",
        "!pip show matplotlib"
      ],
      "execution_count": null,
      "outputs": [
        {
          "output_type": "stream",
          "text": [
            "Name: matplotlib\n",
            "Version: 3.3.2\n",
            "Summary: Python plotting package\n",
            "Home-page: https://matplotlib.org\n",
            "Author: John D. Hunter, Michael Droettboom\n",
            "Author-email: matplotlib-users@python.org\n",
            "License: PSF\n",
            "Location: c:\\users\\adam\\anaconda3\\lib\\site-packages\n",
            "Requires: kiwisolver, pillow, certifi, python-dateutil, numpy, cycler, pyparsing\n",
            "Required-by: seaborn, scikit-image, mlxtend\n"
          ],
          "name": "stdout"
        }
      ]
    },
    {
      "cell_type": "code",
      "metadata": {
        "id": "7sFkSPcCMSVQ",
        "colab": {
          "base_uri": "https://localhost:8080/"
        },
        "outputId": "5db94d02-3e43-4897-eddb-2f5738d68d48"
      },
      "source": [
        "!pip show seaborn"
      ],
      "execution_count": null,
      "outputs": [
        {
          "output_type": "stream",
          "text": [
            "Name: seaborn\n",
            "Version: 0.11.0\n",
            "Summary: seaborn: statistical data visualization\n",
            "Home-page: https://seaborn.pydata.org\n",
            "Author: Michael Waskom\n",
            "Author-email: mwaskom@nyu.edu\n",
            "License: BSD (3-clause)\n",
            "Location: c:\\users\\adam\\anaconda3\\lib\\site-packages\n",
            "Requires: numpy, pandas, matplotlib, scipy\n",
            "Required-by: \n"
          ],
          "name": "stdout"
        }
      ]
    },
    {
      "cell_type": "markdown",
      "metadata": {
        "id": "YFkqdSzuOR61"
      },
      "source": [
        "Code for retrieving datasets from a shared Google Drive commented out; recommended to upload dataset and insert its directory path into pd.read_csv in the subsequent block"
      ]
    },
    {
      "cell_type": "code",
      "metadata": {
        "id": "DFmo8tN0-C9D"
      },
      "source": [
        "# # Import PyDrive and associated libraries.\n",
        "# # This only needs to be done once per notebook.\n",
        "# from pydrive.auth import GoogleAuth\n",
        "# from pydrive.drive import GoogleDrive\n",
        "# from google.colab import auth\n",
        "# from oauth2client.client import GoogleCredentials\n",
        "\n",
        "# # Authenticate and create the PyDrive client.\n",
        "# # This only needs to be done once per notebook.\n",
        "# auth.authenticate_user()\n",
        "# gauth = GoogleAuth()\n",
        "# gauth.credentials = GoogleCredentials.get_application_default()\n",
        "# drive = GoogleDrive(gauth)\n",
        "\n",
        "# # Download a file based on its file ID.\n",
        "# #\n",
        "# # A file ID looks like: laggVyWshwcyP6kEI-y_W3P8D26sz\n",
        "# creditcard_id = '1p_GsFqkM4_k9Xs5i_eF_-xia05FWiaFI'\n",
        "\n",
        "#Create a dataframe of the data\n",
        "# creditcardcsv = drive.CreateFile({'id': creditcard_id})\n",
        "# creditcardcsv.GetContentFile(filename='creditcard.csv')"
      ],
      "execution_count": null,
      "outputs": []
    },
    {
      "cell_type": "code",
      "metadata": {
        "colab": {
          "base_uri": "https://localhost:8080/",
          "height": 368
        },
        "id": "-OkGKlTI-HfC",
        "outputId": "625f0500-9525-4538-c916-f2788fe016b1"
      },
      "source": [
        "# Insert creditcard.csv filepath in place of this\n",
        "df = pd.read_csv('.\\\\Documents\\\\Projects\\\\fraudject TURBO\\\\creditcard.csv')\n",
        "\n",
        "print(df.shape)\n",
        "#df.info()\n",
        "df.describe()"
      ],
      "execution_count": null,
      "outputs": [
        {
          "output_type": "stream",
          "text": [
            "(284807, 31)\n"
          ],
          "name": "stdout"
        },
        {
          "output_type": "execute_result",
          "data": {
            "text/plain": [
              "                Time            V1            V2            V3            V4  \\\n",
              "count  284807.000000  2.848070e+05  2.848070e+05  2.848070e+05  2.848070e+05   \n",
              "mean    94813.859575  3.919560e-15  5.688174e-16 -8.769071e-15  2.782312e-15   \n",
              "std     47488.145955  1.958696e+00  1.651309e+00  1.516255e+00  1.415869e+00   \n",
              "min         0.000000 -5.640751e+01 -7.271573e+01 -4.832559e+01 -5.683171e+00   \n",
              "25%     54201.500000 -9.203734e-01 -5.985499e-01 -8.903648e-01 -8.486401e-01   \n",
              "50%     84692.000000  1.810880e-02  6.548556e-02  1.798463e-01 -1.984653e-02   \n",
              "75%    139320.500000  1.315642e+00  8.037239e-01  1.027196e+00  7.433413e-01   \n",
              "max    172792.000000  2.454930e+00  2.205773e+01  9.382558e+00  1.687534e+01   \n",
              "\n",
              "                 V5            V6            V7            V8            V9  \\\n",
              "count  2.848070e+05  2.848070e+05  2.848070e+05  2.848070e+05  2.848070e+05   \n",
              "mean  -1.552563e-15  2.010663e-15 -1.694249e-15 -1.927028e-16 -3.137024e-15   \n",
              "std    1.380247e+00  1.332271e+00  1.237094e+00  1.194353e+00  1.098632e+00   \n",
              "min   -1.137433e+02 -2.616051e+01 -4.355724e+01 -7.321672e+01 -1.343407e+01   \n",
              "25%   -6.915971e-01 -7.682956e-01 -5.540759e-01 -2.086297e-01 -6.430976e-01   \n",
              "50%   -5.433583e-02 -2.741871e-01  4.010308e-02  2.235804e-02 -5.142873e-02   \n",
              "75%    6.119264e-01  3.985649e-01  5.704361e-01  3.273459e-01  5.971390e-01   \n",
              "max    3.480167e+01  7.330163e+01  1.205895e+02  2.000721e+01  1.559499e+01   \n",
              "\n",
              "       ...           V21           V22           V23           V24  \\\n",
              "count  ...  2.848070e+05  2.848070e+05  2.848070e+05  2.848070e+05   \n",
              "mean   ...  1.537294e-16  7.959909e-16  5.367590e-16  4.458112e-15   \n",
              "std    ...  7.345240e-01  7.257016e-01  6.244603e-01  6.056471e-01   \n",
              "min    ... -3.483038e+01 -1.093314e+01 -4.480774e+01 -2.836627e+00   \n",
              "25%    ... -2.283949e-01 -5.423504e-01 -1.618463e-01 -3.545861e-01   \n",
              "50%    ... -2.945017e-02  6.781943e-03 -1.119293e-02  4.097606e-02   \n",
              "75%    ...  1.863772e-01  5.285536e-01  1.476421e-01  4.395266e-01   \n",
              "max    ...  2.720284e+01  1.050309e+01  2.252841e+01  4.584549e+00   \n",
              "\n",
              "                V25           V26           V27           V28         Amount  \\\n",
              "count  2.848070e+05  2.848070e+05  2.848070e+05  2.848070e+05  284807.000000   \n",
              "mean   1.453003e-15  1.699104e-15 -3.660161e-16 -1.206049e-16      88.349619   \n",
              "std    5.212781e-01  4.822270e-01  4.036325e-01  3.300833e-01     250.120109   \n",
              "min   -1.029540e+01 -2.604551e+00 -2.256568e+01 -1.543008e+01       0.000000   \n",
              "25%   -3.171451e-01 -3.269839e-01 -7.083953e-02 -5.295979e-02       5.600000   \n",
              "50%    1.659350e-02 -5.213911e-02  1.342146e-03  1.124383e-02      22.000000   \n",
              "75%    3.507156e-01  2.409522e-01  9.104512e-02  7.827995e-02      77.165000   \n",
              "max    7.519589e+00  3.517346e+00  3.161220e+01  3.384781e+01   25691.160000   \n",
              "\n",
              "               Class  \n",
              "count  284807.000000  \n",
              "mean        0.001727  \n",
              "std         0.041527  \n",
              "min         0.000000  \n",
              "25%         0.000000  \n",
              "50%         0.000000  \n",
              "75%         0.000000  \n",
              "max         1.000000  \n",
              "\n",
              "[8 rows x 31 columns]"
            ],
            "text/html": [
              "<div>\n",
              "<style scoped>\n",
              "    .dataframe tbody tr th:only-of-type {\n",
              "        vertical-align: middle;\n",
              "    }\n",
              "\n",
              "    .dataframe tbody tr th {\n",
              "        vertical-align: top;\n",
              "    }\n",
              "\n",
              "    .dataframe thead th {\n",
              "        text-align: right;\n",
              "    }\n",
              "</style>\n",
              "<table border=\"1\" class=\"dataframe\">\n",
              "  <thead>\n",
              "    <tr style=\"text-align: right;\">\n",
              "      <th></th>\n",
              "      <th>Time</th>\n",
              "      <th>V1</th>\n",
              "      <th>V2</th>\n",
              "      <th>V3</th>\n",
              "      <th>V4</th>\n",
              "      <th>V5</th>\n",
              "      <th>V6</th>\n",
              "      <th>V7</th>\n",
              "      <th>V8</th>\n",
              "      <th>V9</th>\n",
              "      <th>...</th>\n",
              "      <th>V21</th>\n",
              "      <th>V22</th>\n",
              "      <th>V23</th>\n",
              "      <th>V24</th>\n",
              "      <th>V25</th>\n",
              "      <th>V26</th>\n",
              "      <th>V27</th>\n",
              "      <th>V28</th>\n",
              "      <th>Amount</th>\n",
              "      <th>Class</th>\n",
              "    </tr>\n",
              "  </thead>\n",
              "  <tbody>\n",
              "    <tr>\n",
              "      <th>count</th>\n",
              "      <td>284807.000000</td>\n",
              "      <td>2.848070e+05</td>\n",
              "      <td>2.848070e+05</td>\n",
              "      <td>2.848070e+05</td>\n",
              "      <td>2.848070e+05</td>\n",
              "      <td>2.848070e+05</td>\n",
              "      <td>2.848070e+05</td>\n",
              "      <td>2.848070e+05</td>\n",
              "      <td>2.848070e+05</td>\n",
              "      <td>2.848070e+05</td>\n",
              "      <td>...</td>\n",
              "      <td>2.848070e+05</td>\n",
              "      <td>2.848070e+05</td>\n",
              "      <td>2.848070e+05</td>\n",
              "      <td>2.848070e+05</td>\n",
              "      <td>2.848070e+05</td>\n",
              "      <td>2.848070e+05</td>\n",
              "      <td>2.848070e+05</td>\n",
              "      <td>2.848070e+05</td>\n",
              "      <td>284807.000000</td>\n",
              "      <td>284807.000000</td>\n",
              "    </tr>\n",
              "    <tr>\n",
              "      <th>mean</th>\n",
              "      <td>94813.859575</td>\n",
              "      <td>3.919560e-15</td>\n",
              "      <td>5.688174e-16</td>\n",
              "      <td>-8.769071e-15</td>\n",
              "      <td>2.782312e-15</td>\n",
              "      <td>-1.552563e-15</td>\n",
              "      <td>2.010663e-15</td>\n",
              "      <td>-1.694249e-15</td>\n",
              "      <td>-1.927028e-16</td>\n",
              "      <td>-3.137024e-15</td>\n",
              "      <td>...</td>\n",
              "      <td>1.537294e-16</td>\n",
              "      <td>7.959909e-16</td>\n",
              "      <td>5.367590e-16</td>\n",
              "      <td>4.458112e-15</td>\n",
              "      <td>1.453003e-15</td>\n",
              "      <td>1.699104e-15</td>\n",
              "      <td>-3.660161e-16</td>\n",
              "      <td>-1.206049e-16</td>\n",
              "      <td>88.349619</td>\n",
              "      <td>0.001727</td>\n",
              "    </tr>\n",
              "    <tr>\n",
              "      <th>std</th>\n",
              "      <td>47488.145955</td>\n",
              "      <td>1.958696e+00</td>\n",
              "      <td>1.651309e+00</td>\n",
              "      <td>1.516255e+00</td>\n",
              "      <td>1.415869e+00</td>\n",
              "      <td>1.380247e+00</td>\n",
              "      <td>1.332271e+00</td>\n",
              "      <td>1.237094e+00</td>\n",
              "      <td>1.194353e+00</td>\n",
              "      <td>1.098632e+00</td>\n",
              "      <td>...</td>\n",
              "      <td>7.345240e-01</td>\n",
              "      <td>7.257016e-01</td>\n",
              "      <td>6.244603e-01</td>\n",
              "      <td>6.056471e-01</td>\n",
              "      <td>5.212781e-01</td>\n",
              "      <td>4.822270e-01</td>\n",
              "      <td>4.036325e-01</td>\n",
              "      <td>3.300833e-01</td>\n",
              "      <td>250.120109</td>\n",
              "      <td>0.041527</td>\n",
              "    </tr>\n",
              "    <tr>\n",
              "      <th>min</th>\n",
              "      <td>0.000000</td>\n",
              "      <td>-5.640751e+01</td>\n",
              "      <td>-7.271573e+01</td>\n",
              "      <td>-4.832559e+01</td>\n",
              "      <td>-5.683171e+00</td>\n",
              "      <td>-1.137433e+02</td>\n",
              "      <td>-2.616051e+01</td>\n",
              "      <td>-4.355724e+01</td>\n",
              "      <td>-7.321672e+01</td>\n",
              "      <td>-1.343407e+01</td>\n",
              "      <td>...</td>\n",
              "      <td>-3.483038e+01</td>\n",
              "      <td>-1.093314e+01</td>\n",
              "      <td>-4.480774e+01</td>\n",
              "      <td>-2.836627e+00</td>\n",
              "      <td>-1.029540e+01</td>\n",
              "      <td>-2.604551e+00</td>\n",
              "      <td>-2.256568e+01</td>\n",
              "      <td>-1.543008e+01</td>\n",
              "      <td>0.000000</td>\n",
              "      <td>0.000000</td>\n",
              "    </tr>\n",
              "    <tr>\n",
              "      <th>25%</th>\n",
              "      <td>54201.500000</td>\n",
              "      <td>-9.203734e-01</td>\n",
              "      <td>-5.985499e-01</td>\n",
              "      <td>-8.903648e-01</td>\n",
              "      <td>-8.486401e-01</td>\n",
              "      <td>-6.915971e-01</td>\n",
              "      <td>-7.682956e-01</td>\n",
              "      <td>-5.540759e-01</td>\n",
              "      <td>-2.086297e-01</td>\n",
              "      <td>-6.430976e-01</td>\n",
              "      <td>...</td>\n",
              "      <td>-2.283949e-01</td>\n",
              "      <td>-5.423504e-01</td>\n",
              "      <td>-1.618463e-01</td>\n",
              "      <td>-3.545861e-01</td>\n",
              "      <td>-3.171451e-01</td>\n",
              "      <td>-3.269839e-01</td>\n",
              "      <td>-7.083953e-02</td>\n",
              "      <td>-5.295979e-02</td>\n",
              "      <td>5.600000</td>\n",
              "      <td>0.000000</td>\n",
              "    </tr>\n",
              "    <tr>\n",
              "      <th>50%</th>\n",
              "      <td>84692.000000</td>\n",
              "      <td>1.810880e-02</td>\n",
              "      <td>6.548556e-02</td>\n",
              "      <td>1.798463e-01</td>\n",
              "      <td>-1.984653e-02</td>\n",
              "      <td>-5.433583e-02</td>\n",
              "      <td>-2.741871e-01</td>\n",
              "      <td>4.010308e-02</td>\n",
              "      <td>2.235804e-02</td>\n",
              "      <td>-5.142873e-02</td>\n",
              "      <td>...</td>\n",
              "      <td>-2.945017e-02</td>\n",
              "      <td>6.781943e-03</td>\n",
              "      <td>-1.119293e-02</td>\n",
              "      <td>4.097606e-02</td>\n",
              "      <td>1.659350e-02</td>\n",
              "      <td>-5.213911e-02</td>\n",
              "      <td>1.342146e-03</td>\n",
              "      <td>1.124383e-02</td>\n",
              "      <td>22.000000</td>\n",
              "      <td>0.000000</td>\n",
              "    </tr>\n",
              "    <tr>\n",
              "      <th>75%</th>\n",
              "      <td>139320.500000</td>\n",
              "      <td>1.315642e+00</td>\n",
              "      <td>8.037239e-01</td>\n",
              "      <td>1.027196e+00</td>\n",
              "      <td>7.433413e-01</td>\n",
              "      <td>6.119264e-01</td>\n",
              "      <td>3.985649e-01</td>\n",
              "      <td>5.704361e-01</td>\n",
              "      <td>3.273459e-01</td>\n",
              "      <td>5.971390e-01</td>\n",
              "      <td>...</td>\n",
              "      <td>1.863772e-01</td>\n",
              "      <td>5.285536e-01</td>\n",
              "      <td>1.476421e-01</td>\n",
              "      <td>4.395266e-01</td>\n",
              "      <td>3.507156e-01</td>\n",
              "      <td>2.409522e-01</td>\n",
              "      <td>9.104512e-02</td>\n",
              "      <td>7.827995e-02</td>\n",
              "      <td>77.165000</td>\n",
              "      <td>0.000000</td>\n",
              "    </tr>\n",
              "    <tr>\n",
              "      <th>max</th>\n",
              "      <td>172792.000000</td>\n",
              "      <td>2.454930e+00</td>\n",
              "      <td>2.205773e+01</td>\n",
              "      <td>9.382558e+00</td>\n",
              "      <td>1.687534e+01</td>\n",
              "      <td>3.480167e+01</td>\n",
              "      <td>7.330163e+01</td>\n",
              "      <td>1.205895e+02</td>\n",
              "      <td>2.000721e+01</td>\n",
              "      <td>1.559499e+01</td>\n",
              "      <td>...</td>\n",
              "      <td>2.720284e+01</td>\n",
              "      <td>1.050309e+01</td>\n",
              "      <td>2.252841e+01</td>\n",
              "      <td>4.584549e+00</td>\n",
              "      <td>7.519589e+00</td>\n",
              "      <td>3.517346e+00</td>\n",
              "      <td>3.161220e+01</td>\n",
              "      <td>3.384781e+01</td>\n",
              "      <td>25691.160000</td>\n",
              "      <td>1.000000</td>\n",
              "    </tr>\n",
              "  </tbody>\n",
              "</table>\n",
              "<p>8 rows × 31 columns</p>\n",
              "</div>"
            ]
          },
          "metadata": {
            "tags": []
          },
          "execution_count": 3
        }
      ]
    },
    {
      "cell_type": "code",
      "metadata": {
        "colab": {
          "base_uri": "https://localhost:8080/"
        },
        "id": "6iNFXRSN-VwO",
        "outputId": "3312d01a-5a55-41b5-f5ae-7d923d232b2a"
      },
      "source": [
        "#Find the amount of fraud in the dataset.\n",
        "print(\"Number of fraudulent transactions is\", (df['Class']== 1 ).sum())\n",
        "print(\"The total number of transactions is\", len(df['Class']))\n",
        "percent_fraud = round(((df['Class']== 1 ).sum())/(len(df['Class'])) * 100, 2)\n",
        "print('There is', percent_fraud, '% fraud in the dataframe')"
      ],
      "execution_count": null,
      "outputs": [
        {
          "output_type": "stream",
          "text": [
            "Number of fraudulent transactions is 492\n",
            "The total number of transactions is 284807\n",
            "There is 0.17 % fraud in the dataframe\n"
          ],
          "name": "stdout"
        }
      ]
    },
    {
      "cell_type": "code",
      "metadata": {
        "colab": {
          "base_uri": "https://localhost:8080/",
          "height": 585
        },
        "id": "0p48KgW-BgYL",
        "outputId": "f6b181b5-bec3-4488-f184-572a661b1350"
      },
      "source": [
        "#visualize data using a scatterplot matrix\n",
        "cols = ['Time', 'Amount', 'Class']\n",
        "scatterplotmatrix(df[cols].values, figsize = (10, 8), names = cols, alpha = 0.5)\n",
        "plt.tight_layout()\n",
        "plt.show()"
      ],
      "execution_count": null,
      "outputs": [
        {
          "output_type": "display_data",
          "data": {
            "text/plain": [
              "<Figure size 720x576 with 9 Axes>"
            ],
            "image/png": "[encoded data removed]"
          },
          "metadata": {
            "tags": [],
            "needs_background": "light"
          }
        }
      ]
    },
    {
      "cell_type": "markdown",
      "metadata": {
        "id": "MwDBgn-S-0pb"
      },
      "source": [
        "I have evaluated the dataset and found that it is already clean.  I also discovered there is an average amount of $88, and 0.17% of the data is classified fraudulent. I also visulazied the data using a scatterplot matrix, from this it is clear that I need to use classification models.\n",
        "\n"
      ]
    },
    {
      "cell_type": "markdown",
      "metadata": {
        "id": "9nf9mF3YBr_W"
      },
      "source": [
        "### Logistic Regression\n"
      ]
    },
    {
      "cell_type": "markdown",
      "metadata": {
        "id": "9yE3PVbau2Ge"
      },
      "source": [
        "##### Split the data into Training and Testing\n",
        "In order to evaluate the effectiveness of our models, we need to split the data into training and testing.\n",
        "We will use this in all of the following models."
      ]
    },
    {
      "cell_type": "code",
      "metadata": {
        "id": "RHtVjRwLvHm8"
      },
      "source": [
        "#Set the features and target\n",
        "features = df.drop(['Class'], axis=1)\n",
        "target = df['Class']\n",
        "\n",
        "# Split dataset into training set and test set\n",
        "X_train, X_test, y_train, y_test = train_test_split(features, target, test_size=0.3, random_state=3)"
      ],
      "execution_count": null,
      "outputs": []
    },
    {
      "cell_type": "code",
      "metadata": {
        "colab": {
          "base_uri": "https://localhost:8080/"
        },
        "id": "0JakYBhRAqzt",
        "outputId": "f8908f18-bba3-403e-b616-666bf3a5780f"
      },
      "source": [
        "#Logistic Regression with Grid Search\n",
        "start_time = time.time()\n",
        "#Find the best parameters\n",
        "LogReg = GridSearchCV(LogisticRegressionCV(random_state = 123, class_weight = 'balanced'), {\n",
        "    'max_iter': [4000, 5000, 10000]\n",
        "} ,cv = 5)\n",
        "#Train the model\n",
        "LogReg.fit(X_train, y_train)\n",
        "\n",
        "end_time = time.time()\n",
        "print(f'Process time: {((end_time-start_time)/60):.1f} minutes')\n",
        "#Identify the best parameters\n",
        "print(\"Best parameters\", LogReg.best_params_)\n",
        "\n",
        "#Predict the response for the test set\n",
        "y_pred = LogReg.predict(X_test)\n",
        "#Find the accuracy, precision, and recall\n",
        "print(\"Logistic Regression Accuracy:\", metrics.accuracy_score(y_test, y_pred))\n",
        "print(\"Logistic Regression Precision:\", metrics.precision_score(y_test, y_pred))\n",
        "print(\"Logistic Regression Recall:\", metrics.recall_score(y_test, y_pred))\n"
      ],
      "execution_count": null,
      "outputs": [
        {
          "output_type": "stream",
          "text": [
            "Process time: 1.6 minutes\n",
            "Best parameters {'max_iter': 4000}\n",
            "Logistic Regression Accuracy: 0.9722973210210316\n",
            "Logistic Regression Precision: 0.055756117127958284\n",
            "Logistic Regression Recall: 0.9144736842105263\n"
          ],
          "name": "stdout"
        }
      ]
    },
    {
      "cell_type": "code",
      "metadata": {
        "colab": {
          "base_uri": "https://localhost:8080/"
        },
        "id": "5ZFQTD5awYIw",
        "outputId": "7e0522a3-8514-408f-bd04-3204ee0eb9f9"
      },
      "source": [
        "#Look at Classification Report\n",
        "print(classification_report(y_test, y_pred))\n",
        "# Confusion Matrix\n",
        "cf_matrix=confusion_matrix(y_test, y_pred)\n",
        "print(cf_matrix)"
      ],
      "execution_count": null,
      "outputs": [
        {
          "output_type": "stream",
          "text": [
            "              precision    recall  f1-score   support\n",
            "\n",
            "           0       1.00      0.97      0.99     85291\n",
            "           1       0.06      0.91      0.11       152\n",
            "\n",
            "    accuracy                           0.97     85443\n",
            "   macro avg       0.53      0.94      0.55     85443\n",
            "weighted avg       1.00      0.97      0.98     85443\n",
            "\n",
            "[[82937  2354]\n",
            " [   13   139]]\n"
          ],
          "name": "stdout"
        }
      ]
    },
    {
      "cell_type": "code",
      "metadata": {
        "colab": {
          "base_uri": "https://localhost:8080/",
          "height": 335
        },
        "id": "wfe9V3gbtEhX",
        "outputId": "4b3d5b23-f44b-4f90-c5c0-04fdbf4b85b3"
      },
      "source": [
        "#Visualize the confusion matrix using seaborn\n",
        "cf_matrix=confusion_matrix(y_test, y_pred)\n",
        "group_names = ['True Neg','False Pos','False Neg','True Pos']\n",
        "group_counts = [\"{0:0.0f}\".format(value) for value in\n",
        "                cf_matrix.flatten()]\n",
        "group_percentages = [\"{0:.2%}\".format(value) for value in\n",
        "                     cf_matrix.flatten()/np.sum(cf_matrix)]\n",
        "labels = [f\"{v1}\\n{v2}\\n{v3}\" for v1, v2, v3 in\n",
        "          zip(group_names,group_counts,group_percentages)]\n",
        "labels = np.asarray(labels).reshape(2,2)\n",
        "sns.heatmap(cf_matrix, annot=labels, fmt='', cmap='YlGnBu')\n",
        "plt.title('Confusion matrix for Logistic Regression', y=1.1)\n",
        "plt.ylabel('True')\n",
        "plt.xlabel('Predicted')"
      ],
      "execution_count": null,
      "outputs": [
        {
          "output_type": "execute_result",
          "data": {
            "text/plain": [
              "Text(0.5, 15.0, 'Predicted')"
            ]
          },
          "metadata": {
            "tags": []
          },
          "execution_count": 21
        },
        {
          "output_type": "display_data",
          "data": {
            "text/plain": [
              "<Figure size 432x288 with 2 Axes>"
            ],
            "image/png": "[encoded data removed]"
          },
          "metadata": {
            "tags": [],
            "needs_background": "light"
          }
        }
      ]
    },
    {
      "cell_type": "code",
      "metadata": {
        "id": "NMf-knzLyB8p"
      },
      "source": [
        "# Create helper function to add to sklearn's built-in receiver operating characteristic\n",
        "# plotting function\n",
        "\n",
        "def roc_plot_enhanced(classifier, xtest, ytest, title = None):\n",
        "    \"\"\"\n",
        "    Adds additional landmarks to sklearn's built-in roc_curve plotting function,\n",
        "    namely a baseline and a horizontal rule at TPR = 1.0\n",
        "    \"\"\"\n",
        "    metrics.plot_roc_curve(classifier, xtest, ytest)\n",
        "    #Plot baseline ROC curve\n",
        "    plt.plot([0,1],[0,1],c = 'black', linestyle = 'dashed')\n",
        "    # Plot at TPR = 1.0 to better visualize the FPR at which TPR becomes 1\n",
        "    plt.hlines(1.0, 0, 1, colors = 'red', linestyles = 'dashed', alpha = 0.5)\n",
        "    \n",
        "    plt.xlim([0,1])\n",
        "    plt.ylim([0,1.1])\n",
        "    \n",
        "    plt.title(title)\n",
        "    \n",
        "    plt.show()"
      ],
      "execution_count": null,
      "outputs": []
    },
    {
      "cell_type": "code",
      "metadata": {
        "id": "IO5FU0x8zdiA",
        "colab": {
          "base_uri": "https://localhost:8080/",
          "height": 295
        },
        "outputId": "c1411897-bfb9-4c37-f728-6285fd553480"
      },
      "source": [
        "roc_plot_enhanced(LogReg, X_test, y_test,\n",
        "                  title = 'Receiver Operating Characteristic for Logistic Regression Model')"
      ],
      "execution_count": null,
      "outputs": [
        {
          "output_type": "display_data",
          "data": {
            "text/plain": [
              "<Figure size 432x288 with 1 Axes>"
            ],
            "image/png": "[encoded data removed]"
          },
          "metadata": {
            "tags": [],
            "needs_background": "light"
          }
        }
      ]
    },
    {
      "cell_type": "markdown",
      "metadata": {
        "id": "ElcaY0rl7ZMP"
      },
      "source": [
        "Work Cited\n",
        "* <https://towardsdatascience.com/python-scikit-learn-logistic-regression-classification-eb9c8de8938d>\n",
        "* <https://towardsdatascience.com/logistic-regression-model-tuning-with-scikit-learn-part-1-425142e01af5>\n",
        "* <https://www.youtube.com/watch?v=HdlDYng8g9s>\n",
        "* <https://www.youtube.com/watch?v=pooXM9mM7FU>\n"
      ]
    },
    {
      "cell_type": "markdown",
      "metadata": {
        "id": "FqKw0Jfz7KpS"
      },
      "source": [
        "### Support Vector Machine SVM"
      ]
    },
    {
      "cell_type": "code",
      "metadata": {
        "id": "L1iiGjNZrKvE",
        "colab": {
          "base_uri": "https://localhost:8080/"
        },
        "outputId": "db5eb1d5-44ea-42fc-a4bc-f11d4a05e8b0"
      },
      "source": [
        "#Create a SVM Classifier\n",
        "start_time = time.time()\n",
        "SVMclf = svm.SVC(kernel='linear',random_state = 123, C = 0.1, class_weight = 'balanced')\n",
        "\n",
        "#Train the model using the training sets\n",
        "SVMclf.fit(X_train, y_train)\n",
        "end_time = time.time()\n",
        "print(f'Grid search process time: {((end_time-start_time)/60):.1f} minutes')\n",
        "#Predict the response for test dataset\n",
        "y_pred_svm = SVMclf.predict(X_test)\n",
        "\n",
        "#Find the accuracy, precision, and recall\n",
        "print(\"SVM Accuracy:\", metrics.accuracy_score(y_test, y_pred_svm))\n",
        "print(\"SVM Precision:\", metrics.precision_score(y_test, y_pred_svm))\n",
        "print(\"SVM Recall:\", metrics.recall_score(y_test, y_pred_svm))\n"
      ],
      "execution_count": null,
      "outputs": [
        {
          "output_type": "stream",
          "text": [
            "Grid search process time: 118.1 minutes\n",
            "SVM Accuracy: 0.9874185129267465\n",
            "SVM Precision: 0.11120471777590564\n",
            "SVM Recall: 0.868421052631579\n"
          ],
          "name": "stdout"
        }
      ]
    },
    {
      "cell_type": "code",
      "metadata": {
        "colab": {
          "base_uri": "https://localhost:8080/"
        },
        "id": "k0hT4s19PhMf",
        "outputId": "22e3f687-cce3-492d-b2df-88c288e2609c"
      },
      "source": [
        "#Look at Classification Report\n",
        "print(classification_report(y_test, y_pred_svm))\n",
        "# Confusion Matrix\n",
        "cf_matrix=confusion_matrix( y_test, y_pred_svm)\n",
        "print(cf_matrix)"
      ],
      "execution_count": null,
      "outputs": [
        {
          "output_type": "stream",
          "text": [
            "              precision    recall  f1-score   support\n",
            "\n",
            "           0       1.00      0.99      0.99     85291\n",
            "           1       0.11      0.87      0.20       152\n",
            "\n",
            "    accuracy                           0.99     85443\n",
            "   macro avg       0.56      0.93      0.60     85443\n",
            "weighted avg       1.00      0.99      0.99     85443\n",
            "\n",
            "[[84236  1055]\n",
            " [   20   132]]\n"
          ],
          "name": "stdout"
        }
      ]
    },
    {
      "cell_type": "code",
      "metadata": {
        "colab": {
          "base_uri": "https://localhost:8080/",
          "height": 335
        },
        "id": "y5Fg5Xfpo7NZ",
        "outputId": "f9989ef0-e620-4593-a0d1-c0e3db60cba9"
      },
      "source": [
        "#Visualize the confusion matrix using seaborn\n",
        "cf_matrix=confusion_matrix(y_test, y_pred_svm)\n",
        "group_names = ['True Neg','False Pos','False Neg','True Pos']\n",
        "group_counts = [\"{0:0.0f}\".format(value) for value in\n",
        "                cf_matrix.flatten()]\n",
        "group_percentages = [\"{0:.2%}\".format(value) for value in\n",
        "                     cf_matrix.flatten()/np.sum(cf_matrix)]\n",
        "labels = [f\"{v1}\\n{v2}\\n{v3}\" for v1, v2, v3 in\n",
        "          zip(group_names,group_counts,group_percentages)]\n",
        "labels = np.asarray(labels).reshape(2,2)\n",
        "sns.heatmap(cf_matrix, annot=labels, fmt='', cmap='YlGnBu')\n",
        "\n",
        "plt.title('Confusion matrix for SVM', y=1.1)\n",
        "plt.ylabel('True')\n",
        "plt.xlabel('Predicted')"
      ],
      "execution_count": null,
      "outputs": [
        {
          "output_type": "execute_result",
          "data": {
            "text/plain": [
              "Text(0.5, 15.0, 'Predicted')"
            ]
          },
          "metadata": {
            "tags": []
          },
          "execution_count": 27
        },
        {
          "output_type": "display_data",
          "data": {
            "text/plain": [
              "<Figure size 432x288 with 2 Axes>"
            ],
            "image/png": "[encoded data removed]"
          },
          "metadata": {
            "tags": [],
            "needs_background": "light"
          }
        }
      ]
    },
    {
      "cell_type": "code",
      "metadata": {
        "id": "_vULBzP-zSs6",
        "colab": {
          "base_uri": "https://localhost:8080/",
          "height": 295
        },
        "outputId": "305af496-5a97-4144-e608-1bfc96e2c05e"
      },
      "source": [
        "roc_plot_enhanced(SVMclf, X_test, y_test,\n",
        "                  title = 'Receiver Operating Characteristic for Support Vector Machine Model')"
      ],
      "execution_count": null,
      "outputs": [
        {
          "output_type": "display_data",
          "data": {
            "text/plain": [
              "<Figure size 432x288 with 1 Axes>"
            ],
            "image/png": "[encoded data removed]"
          },
          "metadata": {
            "tags": [],
            "needs_background": "light"
          }
        }
      ]
    },
    {
      "cell_type": "markdown",
      "metadata": {
        "id": "m50BzVUMMpux"
      },
      "source": [
        "Grid search for model tuning"
      ]
    },
    {
      "cell_type": "code",
      "metadata": {
        "id": "JBE-v967B51w"
      },
      "source": [
        "# #GridSearch Version\n",
        "# start_time = time.time()\n",
        "# clf_gs = GridSearchCV(svm.SVC(kernel = 'linear', random_state = 123, class_weight= 'balanced'), {\n",
        "#     'C' : [0.1, 1, 10],\n",
        "# }, )\n",
        "\n",
        "# #Train the model using the training sets\n",
        "# clf_gs.fit(X_train, y_train)\n",
        "\n",
        "# end_time = time.time()\n",
        "# print(f'Grid search process time: {((end_time-start_time)/60):.1f} minutes')\n",
        "# #Identify the best parameters\n",
        "# print(\"Best parameters\", clf_gs.best_params_)\n",
        "\n",
        "# #Predict the response for test dataset\n",
        "# y_pred_gs = clf_gs.predict(X_test)\n",
        "\n",
        "# #Find the accuracy, precision, and recall\n",
        "# print(\"SVM Accuracy:\", metrics.accuracy_score(y_test, y_pred_gs))\n",
        "# print(\"SVM Precision:\", metrics.precision_score(y_test, y_pred_gs))\n",
        "# print(\"SVM Recall:\", metrics.recall_score(y_test, y_pred_gs))"
      ],
      "execution_count": 1,
      "outputs": []
    },
    {
      "cell_type": "code",
      "metadata": {
        "id": "T-xRV9bT2AQR"
      },
      "source": [
        "# #Look at Classification Report\n",
        "# print(classification_report(y_test, y_pred_gs))\n",
        "# # Confusion Matrix\n",
        "# cf_matrix=confusion_matrix(y_test, y_pred_gs)\n",
        "# print(cf_matrix)"
      ],
      "execution_count": null,
      "outputs": []
    },
    {
      "cell_type": "code",
      "metadata": {
        "id": "A4PTG0Y7DZsa"
      },
      "source": [
        "# #Visualize the confusion matrix using seaborn\n",
        "# cf_matrix=confusion_matrix(y_test, y_pred_gs)\n",
        "# group_names = ['True Neg','False Pos','False Neg','True Pos']\n",
        "# group_counts = [\"{0:0.0f}\".format(value) for value in\n",
        "#                 cf_matrix.flatten()]\n",
        "# group_percentages = [\"{0:.2%}\".format(value) for value in\n",
        "#                      cf_matrix.flatten()/np.sum(cf_matrix)]\n",
        "# labels = [f\"{v1}\\n{v2}\\n{v3}\" for v1, v2, v3 in\n",
        "#           zip(group_names,group_counts,group_percentages)]\n",
        "# labels = np.asarray(labels).reshape(2,2)\n",
        "# sns.heatmap(cf_matrix, annot=labels, fmt='', cmap='YlGnBu')\n",
        "# ax.xaxis.set_label_position(\"top\")\n",
        "# plt.title('Confusion matrix for SVM GridSearch', y=1.1)\n",
        "# plt.ylabel('True')\n",
        "# plt.xlabel('Predicted')"
      ],
      "execution_count": null,
      "outputs": []
    },
    {
      "cell_type": "markdown",
      "metadata": {
        "id": "v29TWXgXNnJb"
      },
      "source": [
        "##### Work Cited\n",
        "* <https://medium.com/all-things-ai/in-depth-parameter-tuning-for-svc-758215394769>\n"
      ]
    },
    {
      "cell_type": "markdown",
      "metadata": {
        "id": "VyWwdpBHNt7r"
      },
      "source": [
        "### Random Forest"
      ]
    },
    {
      "cell_type": "code",
      "metadata": {
        "colab": {
          "base_uri": "https://localhost:8080/"
        },
        "id": "CdNxGyxqNw07",
        "outputId": "88a044f0-cc32-4cfc-e880-ffa78c10d2f5"
      },
      "source": [
        "#Create a Random Forest Classifier\n",
        "start_time = time.time()\n",
        "rf_clf = RandomForestClassifier(n_estimators=100, max_depth = 2, random_state= 123, class_weight= 'balanced')\n",
        "\n",
        "#Train the model using the training sets\n",
        "rf_clf.fit(X_train, y_train)\n",
        "end_time = time.time()\n",
        "print(f'Grid search process time: {((end_time-start_time)/60):.1f} minutes')\n",
        "\n",
        "#Predict the response for test dataset\n",
        "y_pred_rf = rf_clf.predict(X_test)\n",
        "\n",
        "#Find the accuracy, precision, and recall\n",
        "print(\"Random Forest Accuracy:\", metrics.accuracy_score(y_test, y_pred_rf))\n",
        "print(\"Random Forest Precision:\", metrics.precision_score(y_test, y_pred_rf))\n",
        "print(\"Random Forest Recall:\", metrics.recall_score(y_test, y_pred_rf))"
      ],
      "execution_count": null,
      "outputs": [
        {
          "output_type": "stream",
          "text": [
            "Grid search process time: 0.3 minutes\n",
            "Random Forest Accuracy: 0.9980454806128062\n",
            "Random Forest Precision: 0.47232472324723246\n",
            "Random Forest Recall: 0.8421052631578947\n"
          ],
          "name": "stdout"
        }
      ]
    },
    {
      "cell_type": "code",
      "metadata": {
        "id": "FZYqxzW62KMY",
        "colab": {
          "base_uri": "https://localhost:8080/"
        },
        "outputId": "a9b2cd45-1cce-4c0d-fafd-bd5847b258be"
      },
      "source": [
        "#Look at Classification Report\n",
        "print(classification_report(y_test, y_pred_rf))\n",
        "# Confusion Matrix\n",
        "cf_matrix=confusion_matrix(y_test, y_pred_rf)\n",
        "print(cf_matrix)"
      ],
      "execution_count": null,
      "outputs": [
        {
          "output_type": "stream",
          "text": [
            "              precision    recall  f1-score   support\n",
            "\n",
            "           0       1.00      1.00      1.00     85291\n",
            "           1       0.47      0.84      0.61       152\n",
            "\n",
            "    accuracy                           1.00     85443\n",
            "   macro avg       0.74      0.92      0.80     85443\n",
            "weighted avg       1.00      1.00      1.00     85443\n",
            "\n",
            "[[85148   143]\n",
            " [   24   128]]\n"
          ],
          "name": "stdout"
        }
      ]
    },
    {
      "cell_type": "code",
      "metadata": {
        "colab": {
          "base_uri": "https://localhost:8080/",
          "height": 335
        },
        "id": "jj4_qfupiqWE",
        "outputId": "4f512390-5e35-4d88-84fc-9b233fa39957"
      },
      "source": [
        "#Visualize the confusion matrix using seaborn\n",
        "cf_matrix=confusion_matrix(y_test, y_pred_rf)\n",
        "group_names = ['True Neg','False Pos','False Neg','True Pos']\n",
        "group_counts = [\"{0:0.0f}\".format(value) for value in\n",
        "                cf_matrix.flatten()]\n",
        "group_percentages = [\"{0:.2%}\".format(value) for value in\n",
        "                     cf_matrix.flatten()/np.sum(cf_matrix)]\n",
        "labels = [f\"{v1}\\n{v2}\\n{v3}\" for v1, v2, v3 in\n",
        "          zip(group_names,group_counts,group_percentages)]\n",
        "labels = np.asarray(labels).reshape(2,2)\n",
        "sns.heatmap(cf_matrix, annot=labels, fmt='', cmap='YlGnBu')\n",
        "\n",
        "plt.title('Confusion matrix for Random Forest', y=1.1)\n",
        "plt.ylabel('True')\n",
        "plt.xlabel('Predicted')"
      ],
      "execution_count": null,
      "outputs": [
        {
          "output_type": "execute_result",
          "data": {
            "text/plain": [
              "Text(0.5, 15.0, 'Predicted')"
            ]
          },
          "metadata": {
            "tags": []
          },
          "execution_count": 33
        },
        {
          "output_type": "display_data",
          "data": {
            "text/plain": [
              "<Figure size 432x288 with 2 Axes>"
            ],
            "image/png": "[encoded data removed]"
          },
          "metadata": {
            "tags": [],
            "needs_background": "light"
          }
        }
      ]
    },
    {
      "cell_type": "code",
      "metadata": {
        "id": "xUNwv6I8zp8o",
        "colab": {
          "base_uri": "https://localhost:8080/",
          "height": 295
        },
        "outputId": "91989a26-cbf6-4aa6-a892-4d097dac3cf5"
      },
      "source": [
        "roc_plot_enhanced(rf_clf, X_test, y_test, \n",
        "                  title = 'Receiver Operating Characteristic for Random Forest Model')"
      ],
      "execution_count": null,
      "outputs": [
        {
          "output_type": "display_data",
          "data": {
            "text/plain": [
              "<Figure size 432x288 with 1 Axes>"
            ],
            "image/png": "[encoded data removed]"
          },
          "metadata": {
            "tags": [],
            "needs_background": "light"
          }
        }
      ]
    },
    {
      "cell_type": "markdown",
      "metadata": {
        "id": "fxcKmXnpMykm"
      },
      "source": [
        "Randomized search for model tuning"
      ]
    },
    {
      "cell_type": "code",
      "metadata": {
        "id": "Ir9UDYmlkdOA"
      },
      "source": [
        "# #GridSearch Version\n",
        "# from sklearn.model_selection import RandomizedSearchCV\n",
        "# #Create a Random Forest Classifier starting with a RandomizedSearchCV\n",
        "# start_time = time.time()\n",
        "# rfgs_clf = RandomizedSearchCV(RandomForestClassifier(random_state= 123, class_weight = 'balanced'), {\n",
        "#     'n_estimators': [100, 200, 300, 1000],\n",
        "#     'max_features': ['auto', 'sqrt'],\n",
        "#     'max_depth': [10, 20, 30, 40, 50, 60, 70, 80, 90, 100, None],\n",
        "#     'bootstrap': [True, False],\n",
        "#     'min_samples_leaf': [1, 2, 4],\n",
        "#     'min_samples_split': [2, 5, 10],\n",
        "# }, n_iter = 10, cv = 3, verbose = 2, random_state = 123, n_jobs = -1)\n",
        "\n",
        "# #Train the model using the training sets\n",
        "# rfgs_clf.fit(X_train, y_train)\n",
        "# end_time = time.time()\n",
        "# print(f'Grid search process time: {((end_time-start_time)/60):.1f} minutes')\n",
        "\n",
        "# #Identify the best parameters\n",
        "# print(\"Best parameters\", rfgs_clf.best_params_)\n",
        "\n",
        "# #Predict the response for test dataset\n",
        "# y_pred_rfgs = rfgs_clf.predict(X_test)\n",
        "\n",
        "# #Find the accuracy, precision, and recall\n",
        "# print(\"SVM Accuracy:\", metrics.accuracy_score(y_test, y_pred_rfgs))\n",
        "# print(\"SVM Precision:\", metrics.precision_score(y_test, y_pred_rfgs))\n",
        "# print(\"SVM Recall:\", metrics.recall_score(y_test, y_pred_rfgs))"
      ],
      "execution_count": 2,
      "outputs": []
    },
    {
      "cell_type": "code",
      "metadata": {
        "id": "Xv9jgGxq2Q2R"
      },
      "source": [
        "# #Look at Classification Report\n",
        "# print(classification_report(y_test, y_pred_rfgs))\n",
        "# # Confusion Matrix\n",
        "# cf_matrix=confusion_matrix(y_test, y_pred_rfgs)\n",
        "# print(cf_matrix)"
      ],
      "execution_count": null,
      "outputs": []
    },
    {
      "cell_type": "code",
      "metadata": {
        "id": "JRl0gFA62WnE"
      },
      "source": [
        "# #Visualize the confusion matrix using seaborn\n",
        "# cf_matrix=confusion_matrix(y_test, y_pred_rfgs)\n",
        "# group_names = ['True Neg','False Pos','False Neg','True Pos']\n",
        "# group_counts = [\"{0:0.0f}\".format(value) for value in\n",
        "#                 cf_matrix.flatten()]\n",
        "# group_percentages = [\"{0:.2%}\".format(value) for value in\n",
        "#                      cf_matrix.flatten()/np.sum(cf_matrix)]\n",
        "# labels = [f\"{v1}\\n{v2}\\n{v3}\" for v1, v2, v3 in\n",
        "#           zip(group_names,group_counts,group_percentages)]\n",
        "# labels = np.asarray(labels).reshape(2,2)\n",
        "# sns.heatmap(cf_matrix, annot=labels, fmt='', cmap='YlGnBu')\n",
        "# ax.xaxis.set_label_position(\"top\")\n",
        "# plt.title('Confusion matrix for Random Forest with Grid Search', y=1.1)\n",
        "# plt.ylabel('True')\n",
        "# plt.xlabel('Predicted')"
      ],
      "execution_count": null,
      "outputs": []
    },
    {
      "cell_type": "markdown",
      "metadata": {
        "id": "A00jh01BBAW7"
      },
      "source": [
        "##### Work Cited\n",
        "* <https://towardsdatascience.com/hyperparameter-tuning-the-random-forest-in-python-using-scikit-learn-28d2aa77dd74>\n",
        "* <https://www.analyticsvidhya.com/blog/2015/06/tuning-random-forest-model/>\n",
        "* <https://scikit-learn.org/stable/modules/generated/sklearn.ensemble.RandomForestClassifier.html>\n",
        "* <https://towardsdatascience.com/an-implementation-and-explanation-of-the-random-forest-in-python-77bf308a9b76>\n"
      ]
    },
    {
      "cell_type": "markdown",
      "metadata": {
        "id": "obv49w8qoi8D"
      },
      "source": [
        "### Neural Networks"
      ]
    },
    {
      "cell_type": "code",
      "metadata": {
        "colab": {
          "base_uri": "https://localhost:8080/"
        },
        "id": "9VFdEhDWonSs",
        "outputId": "32fd88ad-9990-42e4-da9f-5f794383ab55"
      },
      "source": [
        "#Standardize the data\n",
        "df_scaled = preprocessing.scale(df)\n",
        "df_scaled = pd.DataFrame(df_scaled, columns=df.columns)\n",
        "df_scaled['Class'] = df['Class']\n",
        "df = df_scaled\n",
        "\n",
        "#Set the features and target\n",
        "features = df.drop(['Class'], axis=1)\n",
        "target = df['Class']\n",
        "\n",
        "# Split dataset into training set and test set\n",
        "X_train, X_test, y_train, y_test = train_test_split(features, target, test_size=0.3, random_state=3)\n",
        "\n",
        "#Neural Network Attempts\n",
        "#use a sequential class from Keras\n",
        "model = Sequential()\n",
        "model.add(Dense(32, input_dim=30, activation='relu'))\n",
        "model.add(Dense(16, activation='relu'))\n",
        "model.add(Dense(1, activation='sigmoid'))\n",
        "\n",
        "#Use ‘adam’ optimizer and ‘binary crossentropy’ loss.\n",
        "model.compile(loss='binary_crossentropy', optimizer='adam', metrics=['accuracy'])\n",
        "\n",
        "#100 epochs\n",
        "start_time = time.time()\n",
        "model.fit(X_train, y_train, epochs=100)\n",
        "\n",
        "end_time = time.time()\n",
        "print(f'Process time: {((end_time-start_time)/60):.1f} minutes')"
      ],
      "execution_count": null,
      "outputs": [
        {
          "output_type": "stream",
          "text": [
            "Epoch 1/100\n",
            "6231/6231 [==============================] - 3s 480us/step - loss: 0.0129 - accuracy: 0.9963\n",
            "Epoch 2/100\n",
            "6231/6231 [==============================] - 3s 478us/step - loss: 0.0031 - accuracy: 0.9994\n",
            "Epoch 3/100\n",
            "6231/6231 [==============================] - 3s 485us/step - loss: 0.0028 - accuracy: 0.9994\n",
            "Epoch 4/100\n",
            "6231/6231 [==============================] - 3s 504us/step - loss: 0.0025 - accuracy: 0.9994\n",
            "Epoch 5/100\n",
            "6231/6231 [==============================] - 3s 514us/step - loss: 0.0025 - accuracy: 0.9995\n",
            "Epoch 6/100\n",
            "6231/6231 [==============================] - 3s 490us/step - loss: 0.0023 - accuracy: 0.9995\n",
            "Epoch 7/100\n",
            "6231/6231 [==============================] - 3s 489us/step - loss: 0.0023 - accuracy: 0.9994\n",
            "Epoch 8/100\n",
            "6231/6231 [==============================] - 3s 489us/step - loss: 0.0020 - accuracy: 0.9995\n",
            "Epoch 9/100\n",
            "6231/6231 [==============================] - 3s 493us/step - loss: 0.0019 - accuracy: 0.9996\n",
            "Epoch 10/100\n",
            "6231/6231 [==============================] - 3s 505us/step - loss: 0.0019 - accuracy: 0.9996\n",
            "Epoch 11/100\n",
            "6231/6231 [==============================] - 3s 498us/step - loss: 0.0016 - accuracy: 0.9996\n",
            "Epoch 12/100\n",
            "6231/6231 [==============================] - 3s 497us/step - loss: 0.0017 - accuracy: 0.9996\n",
            "Epoch 13/100\n",
            "6231/6231 [==============================] - 3s 496us/step - loss: 0.0017 - accuracy: 0.9996\n",
            "Epoch 14/100\n",
            "6231/6231 [==============================] - 3s 483us/step - loss: 0.0015 - accuracy: 0.9996\n",
            "Epoch 15/100\n",
            "6231/6231 [==============================] - 3s 493us/step - loss: 0.0015 - accuracy: 0.9996\n",
            "Epoch 16/100\n",
            "6231/6231 [==============================] - 3s 483us/step - loss: 0.0014 - accuracy: 0.9996\n",
            "Epoch 17/100\n",
            "6231/6231 [==============================] - 3s 481us/step - loss: 0.0013 - accuracy: 0.9997\n",
            "Epoch 18/100\n",
            "6231/6231 [==============================] - 3s 491us/step - loss: 0.0013 - accuracy: 0.9996\n",
            "Epoch 19/100\n",
            "6231/6231 [==============================] - 3s 486us/step - loss: 0.0013 - accuracy: 0.9997\n",
            "Epoch 20/100\n",
            "6231/6231 [==============================] - 3s 486us/step - loss: 0.0012 - accuracy: 0.9997\n",
            "Epoch 21/100\n",
            "6231/6231 [==============================] - 3s 489us/step - loss: 0.0012 - accuracy: 0.9997\n",
            "Epoch 22/100\n",
            "6231/6231 [==============================] - 3s 488us/step - loss: 0.0011 - accuracy: 0.9997\n",
            "Epoch 23/100\n",
            "6231/6231 [==============================] - 3s 499us/step - loss: 0.0011 - accuracy: 0.9997\n",
            "Epoch 24/100\n",
            "6231/6231 [==============================] - 3s 493us/step - loss: 0.0011 - accuracy: 0.9997\n",
            "Epoch 25/100\n",
            "6231/6231 [==============================] - 3s 494us/step - loss: 9.5083e-04 - accuracy: 0.9997\n",
            "Epoch 26/100\n",
            "6231/6231 [==============================] - 3s 500us/step - loss: 0.0010 - accuracy: 0.9997\n",
            "Epoch 27/100\n",
            "6231/6231 [==============================] - 3s 483us/step - loss: 0.0011 - accuracy: 0.9998\n",
            "Epoch 28/100\n",
            "6231/6231 [==============================] - 3s 496us/step - loss: 8.4519e-04 - accuracy: 0.9998\n",
            "Epoch 29/100\n",
            "6231/6231 [==============================] - 3s 496us/step - loss: 8.1645e-04 - accuracy: 0.9998\n",
            "Epoch 30/100\n",
            "6231/6231 [==============================] - 3s 488us/step - loss: 8.4929e-04 - accuracy: 0.9998\n",
            "Epoch 31/100\n",
            "6231/6231 [==============================] - 3s 496us/step - loss: 8.2582e-04 - accuracy: 0.9998\n",
            "Epoch 32/100\n",
            "6231/6231 [==============================] - 3s 494us/step - loss: 7.7380e-04 - accuracy: 0.9998\n",
            "Epoch 33/100\n",
            "6231/6231 [==============================] - 3s 492us/step - loss: 7.7446e-04 - accuracy: 0.9998\n",
            "Epoch 34/100\n",
            "6231/6231 [==============================] - 3s 493us/step - loss: 7.4004e-04 - accuracy: 0.9998\n",
            "Epoch 35/100\n",
            "6231/6231 [==============================] - 3s 500us/step - loss: 8.2691e-04 - accuracy: 0.9998\n",
            "Epoch 36/100\n",
            "6231/6231 [==============================] - 3s 495us/step - loss: 7.0756e-04 - accuracy: 0.9998\n",
            "Epoch 37/100\n",
            "6231/6231 [==============================] - 3s 486us/step - loss: 7.4906e-04 - accuracy: 0.9998\n",
            "Epoch 38/100\n",
            "6231/6231 [==============================] - 3s 492us/step - loss: 5.9740e-04 - accuracy: 0.9998\n",
            "Epoch 39/100\n",
            "6231/6231 [==============================] - 3s 491us/step - loss: 7.7073e-04 - accuracy: 0.9998\n",
            "Epoch 40/100\n",
            "6231/6231 [==============================] - 3s 492us/step - loss: 5.3941e-04 - accuracy: 0.9998\n",
            "Epoch 41/100\n",
            "6231/6231 [==============================] - 3s 499us/step - loss: 6.8612e-04 - accuracy: 0.9998\n",
            "Epoch 42/100\n",
            "6231/6231 [==============================] - 3s 490us/step - loss: 6.4624e-04 - accuracy: 0.9998\n",
            "Epoch 43/100\n",
            "6231/6231 [==============================] - 3s 491us/step - loss: 5.9608e-04 - accuracy: 0.9998\n",
            "Epoch 44/100\n",
            "6231/6231 [==============================] - 3s 485us/step - loss: 5.6023e-04 - accuracy: 0.9998\n",
            "Epoch 45/100\n",
            "6231/6231 [==============================] - 3s 493us/step - loss: 6.8205e-04 - accuracy: 0.9998\n",
            "Epoch 46/100\n",
            "6231/6231 [==============================] - 3s 513us/step - loss: 5.6678e-04 - accuracy: 0.9998\n",
            "Epoch 47/100\n",
            "6231/6231 [==============================] - 3s 493us/step - loss: 5.7588e-04 - accuracy: 0.9998\n",
            "Epoch 48/100\n",
            "6231/6231 [==============================] - 3s 504us/step - loss: 5.0394e-04 - accuracy: 0.9998\n",
            "Epoch 49/100\n",
            "6231/6231 [==============================] - 3s 488us/step - loss: 5.5520e-04 - accuracy: 0.9998\n",
            "Epoch 50/100\n",
            "6231/6231 [==============================] - 3s 481us/step - loss: 4.0930e-04 - accuracy: 0.9999\n",
            "Epoch 51/100\n",
            "6231/6231 [==============================] - 3s 499us/step - loss: 5.6609e-04 - accuracy: 0.9998\n",
            "Epoch 52/100\n",
            "6231/6231 [==============================] - 3s 499us/step - loss: 3.8062e-04 - accuracy: 0.9999\n",
            "Epoch 53/100\n",
            "6231/6231 [==============================] - 3s 491us/step - loss: 3.9280e-04 - accuracy: 0.9999\n",
            "Epoch 54/100\n",
            "6231/6231 [==============================] - 3s 493us/step - loss: 5.3992e-04 - accuracy: 0.9999\n",
            "Epoch 55/100\n",
            "6231/6231 [==============================] - 3s 484us/step - loss: 4.9098e-04 - accuracy: 0.9999\n",
            "Epoch 56/100\n",
            "6231/6231 [==============================] - 3s 483us/step - loss: 5.0991e-04 - accuracy: 0.9999\n",
            "Epoch 57/100\n",
            "6231/6231 [==============================] - 3s 507us/step - loss: 4.5102e-04 - accuracy: 0.9999\n",
            "Epoch 58/100\n",
            "6231/6231 [==============================] - 3s 487us/step - loss: 4.2840e-04 - accuracy: 0.9999\n",
            "Epoch 59/100\n",
            "6231/6231 [==============================] - 3s 501us/step - loss: 4.4719e-04 - accuracy: 0.9999\n",
            "Epoch 60/100\n",
            "6231/6231 [==============================] - 3s 492us/step - loss: 5.0610e-04 - accuracy: 0.9999\n",
            "Epoch 61/100\n",
            "6231/6231 [==============================] - 3s 501us/step - loss: 4.4009e-04 - accuracy: 0.9999\n",
            "Epoch 62/100\n",
            "6231/6231 [==============================] - 3s 497us/step - loss: 2.9158e-04 - accuracy: 0.9999\n",
            "Epoch 63/100\n",
            "6231/6231 [==============================] - 3s 489us/step - loss: 3.6854e-04 - accuracy: 0.9999\n",
            "Epoch 64/100\n",
            "6231/6231 [==============================] - 3s 504us/step - loss: 5.7912e-04 - accuracy: 0.9999\n",
            "Epoch 65/100\n",
            "6231/6231 [==============================] - 3s 507us/step - loss: 3.3170e-04 - accuracy: 0.9999\n",
            "Epoch 66/100\n",
            "6231/6231 [==============================] - 3s 500us/step - loss: 3.2184e-04 - accuracy: 0.9999\n",
            "Epoch 67/100\n",
            "6231/6231 [==============================] - 3s 501us/step - loss: 5.0784e-04 - accuracy: 0.9999\n",
            "Epoch 68/100\n",
            "6231/6231 [==============================] - 3s 510us/step - loss: 5.8119e-04 - accuracy: 0.9999\n",
            "Epoch 69/100\n",
            "6231/6231 [==============================] - 3s 511us/step - loss: 3.3680e-04 - accuracy: 0.9999\n",
            "Epoch 70/100\n",
            "6231/6231 [==============================] - 3s 499us/step - loss: 2.6732e-04 - accuracy: 0.9999\n",
            "Epoch 71/100\n",
            "6231/6231 [==============================] - 3s 502us/step - loss: 7.2413e-04 - accuracy: 0.9998\n",
            "Epoch 72/100\n",
            "6231/6231 [==============================] - 3s 506us/step - loss: 3.4894e-04 - accuracy: 0.9999\n",
            "Epoch 73/100\n",
            "6231/6231 [==============================] - 3s 500us/step - loss: 3.4566e-04 - accuracy: 0.9999\n",
            "Epoch 74/100\n",
            "6231/6231 [==============================] - 3s 501us/step - loss: 4.6907e-04 - accuracy: 0.9998\n",
            "Epoch 75/100\n",
            "6231/6231 [==============================] - 3s 505us/step - loss: 4.3765e-04 - accuracy: 0.9999\n",
            "Epoch 76/100\n",
            "6231/6231 [==============================] - 3s 503us/step - loss: 3.8451e-04 - accuracy: 0.9999\n",
            "Epoch 77/100\n",
            "6231/6231 [==============================] - 3s 517us/step - loss: 3.7684e-04 - accuracy: 0.9999\n",
            "Epoch 78/100\n",
            "6231/6231 [==============================] - 3s 510us/step - loss: 4.6474e-04 - accuracy: 0.9999\n",
            "Epoch 79/100\n",
            "6231/6231 [==============================] - 3s 505us/step - loss: 4.2313e-04 - accuracy: 0.9999\n",
            "Epoch 80/100\n",
            "6231/6231 [==============================] - 3s 510us/step - loss: 2.6219e-04 - accuracy: 0.9999\n",
            "Epoch 81/100\n",
            "6231/6231 [==============================] - 3s 511us/step - loss: 6.5403e-04 - accuracy: 0.9999\n",
            "Epoch 82/100\n",
            "6231/6231 [==============================] - 3s 525us/step - loss: 2.8259e-04 - accuracy: 0.9999\n",
            "Epoch 83/100\n",
            "6231/6231 [==============================] - 3s 513us/step - loss: 6.9371e-04 - accuracy: 0.9999\n",
            "Epoch 84/100\n",
            "6231/6231 [==============================] - 3s 516us/step - loss: 2.6242e-04 - accuracy: 0.9999\n",
            "Epoch 85/100\n",
            "6231/6231 [==============================] - 3s 511us/step - loss: 3.7086e-04 - accuracy: 0.9999\n",
            "Epoch 86/100\n",
            "6231/6231 [==============================] - 3s 512us/step - loss: 3.2577e-04 - accuracy: 0.9999\n",
            "Epoch 87/100\n",
            "6231/6231 [==============================] - 3s 500us/step - loss: 4.0389e-04 - accuracy: 0.9999\n",
            "Epoch 88/100\n",
            "6231/6231 [==============================] - 3s 511us/step - loss: 2.3550e-04 - accuracy: 0.9999\n",
            "Epoch 89/100\n",
            "6231/6231 [==============================] - 3s 510us/step - loss: 3.1376e-04 - accuracy: 0.9999\n",
            "Epoch 90/100\n",
            "6231/6231 [==============================] - 3s 501us/step - loss: 5.4489e-04 - accuracy: 0.9999\n",
            "Epoch 91/100\n",
            "6231/6231 [==============================] - 3s 503us/step - loss: 2.3793e-04 - accuracy: 0.9999\n",
            "Epoch 92/100\n",
            "6231/6231 [==============================] - 3s 514us/step - loss: 2.7731e-04 - accuracy: 0.9999\n",
            "Epoch 93/100\n",
            "6231/6231 [==============================] - 3s 512us/step - loss: 3.2314e-04 - accuracy: 0.9999\n",
            "Epoch 94/100\n",
            "6231/6231 [==============================] - 3s 494us/step - loss: 3.2993e-04 - accuracy: 0.9999\n",
            "Epoch 95/100\n",
            "6231/6231 [==============================] - 3s 496us/step - loss: 3.9233e-04 - accuracy: 0.9999\n",
            "Epoch 96/100\n",
            "6231/6231 [==============================] - 3s 491us/step - loss: 2.4078e-04 - accuracy: 0.9999\n",
            "Epoch 97/100\n",
            "6231/6231 [==============================] - 3s 498us/step - loss: 2.9249e-04 - accuracy: 0.9999\n",
            "Epoch 98/100\n",
            "6231/6231 [==============================] - 3s 508us/step - loss: 2.8249e-04 - accuracy: 0.9999\n",
            "Epoch 99/100\n",
            "6231/6231 [==============================] - 3s 491us/step - loss: 3.2027e-04 - accuracy: 0.9999\n",
            "Epoch 100/100\n",
            "6231/6231 [==============================] - 3s 516us/step - loss: 3.5566e-04 - accuracy: 0.9999\n",
            "Process time: 5.2 minutes\n"
          ],
          "name": "stdout"
        }
      ]
    },
    {
      "cell_type": "code",
      "metadata": {
        "colab": {
          "base_uri": "https://localhost:8080/"
        },
        "id": "cS8C_nkHrFvl",
        "outputId": "3109f7c3-7770-4d77-a84e-8f81001b679f"
      },
      "source": [
        "#Predict the response for test dataset\n",
        "y_test_pred = model.predict_classes(X_test)\n",
        "\n",
        "#Find the accuracy, precision, and recall\n",
        "print(\"Neural Network Accuracy:\", metrics.accuracy_score(y_test, y_test_pred))\n",
        "print(\"Neural Network Precision:\", metrics.precision_score(y_test, y_test_pred))\n",
        "print(\"Neural Network Recall:\", metrics.recall_score(y_test, y_test_pred))"
      ],
      "execution_count": null,
      "outputs": [
        {
          "output_type": "stream",
          "text": [
            "WARNING:tensorflow:From <ipython-input-8-531735ed2219>:2: Sequential.predict_classes (from tensorflow.python.keras.engine.sequential) is deprecated and will be removed after 2021-01-01.\n",
            "Instructions for updating:\n",
            "Please use instead:* `np.argmax(model.predict(x), axis=-1)`,   if your model does multi-class classification   (e.g. if it uses a `softmax` last-layer activation).* `(model.predict(x) > 0.5).astype(\"int32\")`,   if your model does binary classification   (e.g. if it uses a `sigmoid` last-layer activation).\n",
            "Neural Network Accuracy: 0.9993328885923949\n",
            "Neural Network Precision: 0.8104575163398693\n",
            "Neural Network Recall: 0.8157894736842105\n"
          ],
          "name": "stdout"
        }
      ]
    },
    {
      "cell_type": "code",
      "metadata": {
        "id": "B7BfExmC2dsM",
        "colab": {
          "base_uri": "https://localhost:8080/"
        },
        "outputId": "1282b9b8-8aae-4ba2-f036-1b28ad9753ab"
      },
      "source": [
        "#Look at Classification Report\n",
        "print(classification_report(y_test, y_test_pred))\n",
        "# Confusion Matrix\n",
        "cf_matrix=confusion_matrix(y_test, y_test_pred)\n",
        "print(cf_matrix)"
      ],
      "execution_count": null,
      "outputs": [
        {
          "output_type": "stream",
          "text": [
            "              precision    recall  f1-score   support\n",
            "\n",
            "           0       1.00      1.00      1.00     85291\n",
            "           1       0.81      0.82      0.81       152\n",
            "\n",
            "    accuracy                           1.00     85443\n",
            "   macro avg       0.91      0.91      0.91     85443\n",
            "weighted avg       1.00      1.00      1.00     85443\n",
            "\n",
            "[[85262    29]\n",
            " [   28   124]]\n"
          ],
          "name": "stdout"
        }
      ]
    },
    {
      "cell_type": "code",
      "metadata": {
        "colab": {
          "base_uri": "https://localhost:8080/",
          "height": 335
        },
        "id": "B3_HYNX_rldF",
        "outputId": "286c7a85-c04a-4e89-bcd8-ba9e104ab072"
      },
      "source": [
        "#Visualize the confusion matrix using seaborn\n",
        "cf_matrix=confusion_matrix(y_test, y_test_pred)\n",
        "group_names = ['True Neg','False Pos','False Neg','True Pos']\n",
        "group_counts = [\"{0:0.0f}\".format(value) for value in\n",
        "                cf_matrix.flatten()]\n",
        "group_percentages = [\"{0:.2%}\".format(value) for value in\n",
        "                     cf_matrix.flatten()/np.sum(cf_matrix)]\n",
        "labels = [f\"{v1}\\n{v2}\\n{v3}\" for v1, v2, v3 in\n",
        "          zip(group_names,group_counts,group_percentages)]\n",
        "labels = np.asarray(labels).reshape(2,2)\n",
        "sns.heatmap(cf_matrix, annot=labels, fmt='', cmap='YlGnBu')\n",
        "\n",
        "plt.title('Confusion matrix for Neural Network', y=1.1)\n",
        "plt.ylabel('True')\n",
        "plt.xlabel('Predicted')"
      ],
      "execution_count": null,
      "outputs": [
        {
          "output_type": "execute_result",
          "data": {
            "text/plain": [
              "Text(0.5, 15.0, 'Predicted')"
            ]
          },
          "metadata": {
            "tags": []
          },
          "execution_count": 10
        },
        {
          "output_type": "display_data",
          "data": {
            "text/plain": [
              "<Figure size 432x288 with 2 Axes>"
            ],
            "image/png": "[encoded data removed]"
          },
          "metadata": {
            "tags": [],
            "needs_background": "light"
          }
        }
      ]
    },
    {
      "cell_type": "code",
      "metadata": {
        "id": "crxcn-F2xbRR",
        "colab": {
          "base_uri": "https://localhost:8080/",
          "height": 295
        },
        "outputId": "d97c24b8-b21a-48cc-db8a-13645ce461e1"
      },
      "source": [
        "# Manually plot ROC curve\n",
        "\n",
        "y_test_prob = model.predict(X_test)\n",
        "false_positive, true_positive, threshold = metrics.roc_curve(y_test, y_test_prob, \n",
        "                                                             drop_intermediate = False)\n",
        "\n",
        "roc_auc = metrics.auc(false_positive, true_positive)\n",
        "\n",
        "plt.title('Receiver Operating Characteristic for Neural Network Model')\n",
        "plt.plot(false_positive, true_positive, label = f'Neural Network (AUC = {roc_auc:0.2f})')\n",
        "plt.legend(loc = 'lower right')\n",
        "# Plot baseline ROC curve\n",
        "plt.plot([0,1],[0,1],c = 'black', linestyle = 'dashed')\n",
        "# Plot line at TPR = 1.0 to illustrate the FPR at which the ROC curve intersects\n",
        "plt.hlines(1.0, 0, 1, colors = 'red', linestyles = 'dashed', alpha = 0.5)\n",
        "\n",
        "\n",
        "plt.xlim([0,1])\n",
        "plt.xlabel('False Positive Rate')\n",
        "\n",
        "plt.ylim([0,1.1])\n",
        "plt.ylabel('True Positive Rate')\n",
        "\n",
        "plt.show()"
      ],
      "execution_count": null,
      "outputs": [
        {
          "output_type": "display_data",
          "data": {
            "text/plain": [
              "<Figure size 432x288 with 1 Axes>"
            ],
            "image/png": "[encoded data removed]"
          },
          "metadata": {
            "tags": [],
            "needs_background": "light"
          }
        }
      ]
    },
    {
      "cell_type": "markdown",
      "metadata": {
        "id": "TSkMCFKpvSol"
      },
      "source": [
        "##### Work Cited\n",
        "* <https://machinelearningmastery.com/how-to-calculate-precision-recall-f1-and-more-for-deep-learning-models/>"
      ]
    },
    {
      "cell_type": "markdown",
      "metadata": {
        "id": "kRjypOVH4Q9U"
      },
      "source": [
        "*Want to try voting but switching to the paper, and will try if time prevails"
      ]
    },
    {
      "cell_type": "markdown",
      "metadata": {
        "id": "WsgAjxeOyjVh"
      },
      "source": [
        "## PCA-1 Augmentation"
      ]
    },
    {
      "cell_type": "code",
      "metadata": {
        "id": "hWh3D9ODSM0h"
      },
      "source": [
        "from sklearn.decomposition import PCA\n",
        "# Refresh to original features\n",
        "df = pd.read_csv('.\\\\Documents\\\\Projects\\\\fraudject TURBO\\\\creditcard.csv')\n",
        "features = df.drop('Class', axis = 1)\n",
        "target = df['Class']\n",
        "\n",
        "# Instantiate PCA model then get transformed variables\n",
        "pca = PCA(n_components = 1)\n",
        "\n",
        "pc_features = pca.fit_transform(features)"
      ],
      "execution_count": null,
      "outputs": []
    },
    {
      "cell_type": "code",
      "metadata": {
        "id": "ar6ydvbTSPcV"
      },
      "source": [
        "# Reconstruct feature vectors from PCA model\n",
        "pc_one = pca.inverse_transform(pc_features)\n",
        "# Calculate featurewise difference from reconstruction\n",
        "recon_error = np.subtract(features.values,pc_one)\n",
        "# Make differences absolute values\n",
        "recon_error = np.abs(recon_error)\n",
        "# Sum features to get aggregate reconstruction error\n",
        "recon_error = recon_error.sum(axis = 1)"
      ],
      "execution_count": null,
      "outputs": []
    },
    {
      "cell_type": "code",
      "metadata": {
        "id": "MdmZRbkMe_jB",
        "colab": {
          "base_uri": "https://localhost:8080/",
          "height": 273
        },
        "outputId": "080096a0-b8a8-4ee2-a8d8-66b0476146f4"
      },
      "source": [
        "# Create separate dataframe with reconstruction error\n",
        "features_pc1 = features.copy()\n",
        "features_pc1['Recon Error'] = recon_error\n",
        "\n",
        "features_pc1.head()"
      ],
      "execution_count": null,
      "outputs": [
        {
          "output_type": "execute_result",
          "data": {
            "text/plain": [
              "   Time        V1        V2        V3        V4        V5        V6        V7  \\\n",
              "0   0.0 -1.359807 -0.072781  2.536347  1.378155 -0.338321  0.462388  0.239599   \n",
              "1   0.0  1.191857  0.266151  0.166480  0.448154  0.060018 -0.082361 -0.078803   \n",
              "2   1.0 -1.358354 -1.340163  1.773209  0.379780 -0.503198  1.800499  0.791461   \n",
              "3   1.0 -0.966272 -0.185226  1.792993 -0.863291 -0.010309  1.247203  0.237609   \n",
              "4   2.0 -1.158233  0.877737  1.548718  0.403034 -0.407193  0.095921  0.592941   \n",
              "\n",
              "         V8        V9  ...       V21       V22       V23       V24       V25  \\\n",
              "0  0.098698  0.363787  ... -0.018307  0.277838 -0.110474  0.066928  0.128539   \n",
              "1  0.085102 -0.255425  ... -0.225775 -0.638672  0.101288 -0.339846  0.167170   \n",
              "2  0.247676 -1.514654  ...  0.247998  0.771679  0.909412 -0.689281 -0.327642   \n",
              "3  0.377436 -1.387024  ... -0.108300  0.005274 -0.190321 -1.175575  0.647376   \n",
              "4 -0.270533  0.817739  ... -0.009431  0.798278 -0.137458  0.141267 -0.206010   \n",
              "\n",
              "        V26       V27       V28  Amount  Recon Error  \n",
              "0 -0.189115  0.133558 -0.021053  149.62    67.375493  \n",
              "1  0.125895 -0.008983  0.014724    2.69   101.100442  \n",
              "2 -0.139097 -0.055353 -0.059752  378.66   306.304097  \n",
              "3 -0.221929  0.062723  0.061458  123.50    46.744139  \n",
              "4  0.502292  0.219422  0.215153   69.99    37.976480  \n",
              "\n",
              "[5 rows x 31 columns]"
            ],
            "text/html": [
              "<div>\n",
              "<style scoped>\n",
              "    .dataframe tbody tr th:only-of-type {\n",
              "        vertical-align: middle;\n",
              "    }\n",
              "\n",
              "    .dataframe tbody tr th {\n",
              "        vertical-align: top;\n",
              "    }\n",
              "\n",
              "    .dataframe thead th {\n",
              "        text-align: right;\n",
              "    }\n",
              "</style>\n",
              "<table border=\"1\" class=\"dataframe\">\n",
              "  <thead>\n",
              "    <tr style=\"text-align: right;\">\n",
              "      <th></th>\n",
              "      <th>Time</th>\n",
              "      <th>V1</th>\n",
              "      <th>V2</th>\n",
              "      <th>V3</th>\n",
              "      <th>V4</th>\n",
              "      <th>V5</th>\n",
              "      <th>V6</th>\n",
              "      <th>V7</th>\n",
              "      <th>V8</th>\n",
              "      <th>V9</th>\n",
              "      <th>...</th>\n",
              "      <th>V21</th>\n",
              "      <th>V22</th>\n",
              "      <th>V23</th>\n",
              "      <th>V24</th>\n",
              "      <th>V25</th>\n",
              "      <th>V26</th>\n",
              "      <th>V27</th>\n",
              "      <th>V28</th>\n",
              "      <th>Amount</th>\n",
              "      <th>Recon Error</th>\n",
              "    </tr>\n",
              "  </thead>\n",
              "  <tbody>\n",
              "    <tr>\n",
              "      <th>0</th>\n",
              "      <td>0.0</td>\n",
              "      <td>-1.359807</td>\n",
              "      <td>-0.072781</td>\n",
              "      <td>2.536347</td>\n",
              "      <td>1.378155</td>\n",
              "      <td>-0.338321</td>\n",
              "      <td>0.462388</td>\n",
              "      <td>0.239599</td>\n",
              "      <td>0.098698</td>\n",
              "      <td>0.363787</td>\n",
              "      <td>...</td>\n",
              "      <td>-0.018307</td>\n",
              "      <td>0.277838</td>\n",
              "      <td>-0.110474</td>\n",
              "      <td>0.066928</td>\n",
              "      <td>0.128539</td>\n",
              "      <td>-0.189115</td>\n",
              "      <td>0.133558</td>\n",
              "      <td>-0.021053</td>\n",
              "      <td>149.62</td>\n",
              "      <td>67.375493</td>\n",
              "    </tr>\n",
              "    <tr>\n",
              "      <th>1</th>\n",
              "      <td>0.0</td>\n",
              "      <td>1.191857</td>\n",
              "      <td>0.266151</td>\n",
              "      <td>0.166480</td>\n",
              "      <td>0.448154</td>\n",
              "      <td>0.060018</td>\n",
              "      <td>-0.082361</td>\n",
              "      <td>-0.078803</td>\n",
              "      <td>0.085102</td>\n",
              "      <td>-0.255425</td>\n",
              "      <td>...</td>\n",
              "      <td>-0.225775</td>\n",
              "      <td>-0.638672</td>\n",
              "      <td>0.101288</td>\n",
              "      <td>-0.339846</td>\n",
              "      <td>0.167170</td>\n",
              "      <td>0.125895</td>\n",
              "      <td>-0.008983</td>\n",
              "      <td>0.014724</td>\n",
              "      <td>2.69</td>\n",
              "      <td>101.100442</td>\n",
              "    </tr>\n",
              "    <tr>\n",
              "      <th>2</th>\n",
              "      <td>1.0</td>\n",
              "      <td>-1.358354</td>\n",
              "      <td>-1.340163</td>\n",
              "      <td>1.773209</td>\n",
              "      <td>0.379780</td>\n",
              "      <td>-0.503198</td>\n",
              "      <td>1.800499</td>\n",
              "      <td>0.791461</td>\n",
              "      <td>0.247676</td>\n",
              "      <td>-1.514654</td>\n",
              "      <td>...</td>\n",
              "      <td>0.247998</td>\n",
              "      <td>0.771679</td>\n",
              "      <td>0.909412</td>\n",
              "      <td>-0.689281</td>\n",
              "      <td>-0.327642</td>\n",
              "      <td>-0.139097</td>\n",
              "      <td>-0.055353</td>\n",
              "      <td>-0.059752</td>\n",
              "      <td>378.66</td>\n",
              "      <td>306.304097</td>\n",
              "    </tr>\n",
              "    <tr>\n",
              "      <th>3</th>\n",
              "      <td>1.0</td>\n",
              "      <td>-0.966272</td>\n",
              "      <td>-0.185226</td>\n",
              "      <td>1.792993</td>\n",
              "      <td>-0.863291</td>\n",
              "      <td>-0.010309</td>\n",
              "      <td>1.247203</td>\n",
              "      <td>0.237609</td>\n",
              "      <td>0.377436</td>\n",
              "      <td>-1.387024</td>\n",
              "      <td>...</td>\n",
              "      <td>-0.108300</td>\n",
              "      <td>0.005274</td>\n",
              "      <td>-0.190321</td>\n",
              "      <td>-1.175575</td>\n",
              "      <td>0.647376</td>\n",
              "      <td>-0.221929</td>\n",
              "      <td>0.062723</td>\n",
              "      <td>0.061458</td>\n",
              "      <td>123.50</td>\n",
              "      <td>46.744139</td>\n",
              "    </tr>\n",
              "    <tr>\n",
              "      <th>4</th>\n",
              "      <td>2.0</td>\n",
              "      <td>-1.158233</td>\n",
              "      <td>0.877737</td>\n",
              "      <td>1.548718</td>\n",
              "      <td>0.403034</td>\n",
              "      <td>-0.407193</td>\n",
              "      <td>0.095921</td>\n",
              "      <td>0.592941</td>\n",
              "      <td>-0.270533</td>\n",
              "      <td>0.817739</td>\n",
              "      <td>...</td>\n",
              "      <td>-0.009431</td>\n",
              "      <td>0.798278</td>\n",
              "      <td>-0.137458</td>\n",
              "      <td>0.141267</td>\n",
              "      <td>-0.206010</td>\n",
              "      <td>0.502292</td>\n",
              "      <td>0.219422</td>\n",
              "      <td>0.215153</td>\n",
              "      <td>69.99</td>\n",
              "      <td>37.976480</td>\n",
              "    </tr>\n",
              "  </tbody>\n",
              "</table>\n",
              "<p>5 rows × 31 columns</p>\n",
              "</div>"
            ]
          },
          "metadata": {
            "tags": []
          },
          "execution_count": 14
        }
      ]
    },
    {
      "cell_type": "code",
      "metadata": {
        "id": "cbUmUrV9yl9D"
      },
      "source": [
        "X_train, X_test, y_train, y_test = train_test_split(features_pc1, target, test_size=0.3, random_state=3)"
      ],
      "execution_count": null,
      "outputs": []
    },
    {
      "cell_type": "markdown",
      "metadata": {
        "id": "TGozsR6DWuhL"
      },
      "source": [
        "### Logistic regression, PCA-1 augmented dataset"
      ]
    },
    {
      "cell_type": "code",
      "metadata": {
        "colab": {
          "base_uri": "https://localhost:8080/"
        },
        "id": "6NxcqFmZyoUj",
        "outputId": "2a138ac7-f074-4886-c59d-3a74bda0c9b9"
      },
      "source": [
        "start_time = time.time()\n",
        "LogReg_pc1 = LogisticRegressionCV(max_iter = 4000, random_state = 123,\n",
        "                                  class_weight='balanced')\n",
        "\n",
        "LogReg_pc1.fit(X_train, y_train)\n",
        "end_time = time.time()\n",
        "\n",
        "print(f'Process time: {((end_time-start_time)/60):.1f} minutes')\n",
        "\n",
        "# Predict the response for the test set\n",
        "y_pred = LogReg_pc1.predict(X_test)\n",
        "# Find the accuracy, precision, and recall\n",
        "print(\"Logistic Regression Accuracy:\", metrics.accuracy_score(y_test, y_pred))\n",
        "print(\"Logistic Regression Precision:\", metrics.precision_score(y_test, y_pred))\n",
        "print(\"Logistic Regression Recall:\", metrics.recall_score(y_test, y_pred))"
      ],
      "execution_count": null,
      "outputs": [
        {
          "output_type": "stream",
          "text": [
            "Process time: 0.2 minutes\n",
            "Logistic Regression Accuracy: 0.9797291761759301\n",
            "Logistic Regression Precision: 0.07389428263214672\n",
            "Logistic Regression Recall: 0.9013157894736842\n"
          ],
          "name": "stdout"
        }
      ]
    },
    {
      "cell_type": "code",
      "metadata": {
        "colab": {
          "base_uri": "https://localhost:8080/"
        },
        "id": "8T6WEkM2yqJR",
        "outputId": "ed9754e4-5538-4595-9221-3a154d76dc49"
      },
      "source": [
        "# Look at Classification Report\n",
        "print(classification_report(y_test, y_pred))\n",
        "# Confusion Matrix\n",
        "cf_matrix=confusion_matrix(y_test, y_pred)\n",
        "print(cf_matrix)"
      ],
      "execution_count": null,
      "outputs": [
        {
          "output_type": "stream",
          "text": [
            "              precision    recall  f1-score   support\n",
            "\n",
            "           0       1.00      0.98      0.99     85291\n",
            "           1       0.07      0.90      0.14       152\n",
            "\n",
            "    accuracy                           0.98     85443\n",
            "   macro avg       0.54      0.94      0.56     85443\n",
            "weighted avg       1.00      0.98      0.99     85443\n",
            "\n",
            "[[83574  1717]\n",
            " [   15   137]]\n"
          ],
          "name": "stdout"
        }
      ]
    },
    {
      "cell_type": "code",
      "metadata": {
        "colab": {
          "base_uri": "https://localhost:8080/",
          "height": 335
        },
        "id": "1R30bQBNu9PM",
        "outputId": "5b16fae8-b503-4e00-b2f4-590443d4fcc8"
      },
      "source": [
        "#Visualize the confusion matrix using seaborn\n",
        "cf_matrix=confusion_matrix(y_test, y_pred)\n",
        "group_names = ['True Neg','False Pos','False Neg','True Pos']\n",
        "group_counts = [\"{0:0.0f}\".format(value) for value in\n",
        "                cf_matrix.flatten()]\n",
        "group_percentages = [\"{0:.2%}\".format(value) for value in\n",
        "                     cf_matrix.flatten()/np.sum(cf_matrix)]\n",
        "labels = [f\"{v1}\\n{v2}\\n{v3}\" for v1, v2, v3 in\n",
        "          zip(group_names,group_counts,group_percentages)]\n",
        "labels = np.asarray(labels).reshape(2,2)\n",
        "sns.heatmap(cf_matrix, annot=labels, fmt='', cmap='YlGnBu')\n",
        "\n",
        "plt.title('Confusion matrix for Logistic Regression (PCA-1)', y=1.1)\n",
        "plt.ylabel('True')\n",
        "plt.xlabel('Predicted')"
      ],
      "execution_count": null,
      "outputs": [
        {
          "output_type": "execute_result",
          "data": {
            "text/plain": [
              "Text(0.5, 15.0, 'Predicted')"
            ]
          },
          "metadata": {
            "tags": []
          },
          "execution_count": 18
        },
        {
          "output_type": "display_data",
          "data": {
            "text/plain": [
              "<Figure size 432x288 with 2 Axes>"
            ],
            "image/png": "[encoded data removed]"
          },
          "metadata": {
            "tags": [],
            "needs_background": "light"
          }
        }
      ]
    },
    {
      "cell_type": "code",
      "metadata": {
        "colab": {
          "base_uri": "https://localhost:8080/",
          "height": 295
        },
        "id": "a0ONIw2fyrcj",
        "outputId": "8d257bb7-c075-4a9a-bdcc-5b5c03a7da64"
      },
      "source": [
        "roc_plot_enhanced(LogReg_pc1, X_test, y_test,\n",
        "                  title = 'Receiver Operating Characteristic for Logistic Regression Model (PCA-1)')"
      ],
      "execution_count": null,
      "outputs": [
        {
          "output_type": "display_data",
          "data": {
            "text/plain": [
              "<Figure size 432x288 with 1 Axes>"
            ],
            "image/png": "[encoded data removed]"
          },
          "metadata": {
            "tags": [],
            "needs_background": "light"
          }
        }
      ]
    },
    {
      "cell_type": "markdown",
      "metadata": {
        "id": "K2QAEra7W0Eq"
      },
      "source": [
        "### SVM, PCA-1 augmented dataset"
      ]
    },
    {
      "cell_type": "markdown",
      "metadata": {
        "id": "6xUeqDAHNLrD"
      },
      "source": [
        "Unused due to excessive computation time"
      ]
    },
    {
      "cell_type": "code",
      "metadata": {
        "id": "EMmdCpscytSx"
      },
      "source": [
        "# #Create a SVM Classifier\n",
        "# start_time = time.time()\n",
        "# SVMclf_pc1 = svm.SVC(kernel='linear',random_state = 123, C = 0.1,\n",
        "#                      class_weight = 'balanced')\n",
        "\n",
        "# #Train the model using the training sets\n",
        "# SVMclf_pc1.fit(X_train, y_train)\n",
        "# end_time = time.time()\n",
        "# print(f'Grid search process time: {((end_time-start_time)/60):.1f} minutes')\n",
        "# #Predict the response for test dataset\n",
        "# y_pred_svm = SVMclf_pc1.predict(X_test)\n",
        "\n",
        "# #Find the accuracy, precision, and recall\n",
        "# print(\"SVM Accuracy:\", metrics.accuracy_score(y_test, y_pred_svm))\n",
        "# print(\"SVM Precision:\", metrics.precision_score(y_test, y_pred_svm))\n",
        "# print(\"SVM Recall:\", metrics.recall_score(y_test, y_pred_svm))"
      ],
      "execution_count": null,
      "outputs": []
    },
    {
      "cell_type": "code",
      "metadata": {
        "id": "fEv-rtTAyurk"
      },
      "source": [
        "# #Visualize the confusion matrix using seaborn\n",
        "# cf_matrix=confusion_matrix(y_test, y_pred_svm)\n",
        "# group_names = ['True Neg','False Pos','False Neg','True Pos']\n",
        "# group_counts = [\"{0:0.0f}\".format(value) for value in\n",
        "#                 cf_matrix.flatten()]\n",
        "# group_percentages = [\"{0:.2%}\".format(value) for value in\n",
        "#                      cf_matrix.flatten()/np.sum(cf_matrix)]\n",
        "# labels = [f\"{v1}\\n{v2}\\n{v3}\" for v1, v2, v3 in\n",
        "#           zip(group_names,group_counts,group_percentages)]\n",
        "# labels = np.asarray(labels).reshape(2,2)\n",
        "# sns.heatmap(cf_matrix, annot=labels, fmt='', cmap='YlGnBu')\n",
        "\n",
        "# plt.title('Confusion matrix for SVM', y=1.1)\n",
        "# plt.ylabel('True')\n",
        "# plt.xlabel('Predicted')"
      ],
      "execution_count": null,
      "outputs": []
    },
    {
      "cell_type": "code",
      "metadata": {
        "id": "xyUHyhM8ywCV"
      },
      "source": [
        "# roc_plot_enhanced(SVMclf_pc1, X_test, y_test, title = 'Support Vector Machine')"
      ],
      "execution_count": null,
      "outputs": []
    },
    {
      "cell_type": "markdown",
      "metadata": {
        "id": "wTsOLMvdW3kn"
      },
      "source": [
        "### Random Forest, PCA-1 augmented dataset"
      ]
    },
    {
      "cell_type": "code",
      "metadata": {
        "colab": {
          "base_uri": "https://localhost:8080/"
        },
        "id": "9YQ61GV-yxeW",
        "outputId": "52b67819-fc07-49e6-ee45-57be6201422d"
      },
      "source": [
        "#Create a Random Forest Classifier\n",
        "start_time = time.time()\n",
        "rf_clf_pc1 = RandomForestClassifier(n_estimators=100, max_depth = 2, random_state= 123, \n",
        "                                    class_weight= 'balanced')\n",
        "\n",
        "#Train the model using the training sets\n",
        "rf_clf_pc1.fit(X_train, y_train)\n",
        "end_time = time.time()\n",
        "print(f'Model training process time: {((end_time-start_time)/60):.1f} minutes')\n",
        "\n",
        "#Predict the response for test dataset\n",
        "y_pred_rf = rf_clf_pc1.predict(X_test)\n",
        "\n",
        "#Find the accuracy, precision, and recall\n",
        "print(\"Random Forest Accuracy:\", metrics.accuracy_score(y_test, y_pred_rf))\n",
        "print(\"Random Forest Precision:\", metrics.precision_score(y_test, y_pred_rf))\n",
        "print(\"Random Forest Recall:\", metrics.recall_score(y_test, y_pred_rf))"
      ],
      "execution_count": null,
      "outputs": [
        {
          "output_type": "stream",
          "text": [
            "Model training process time: 0.3 minutes\n",
            "Random Forest Accuracy: 0.9973549617873905\n",
            "Random Forest Precision: 0.3885542168674699\n",
            "Random Forest Recall: 0.8486842105263158\n"
          ],
          "name": "stdout"
        }
      ]
    },
    {
      "cell_type": "code",
      "metadata": {
        "colab": {
          "base_uri": "https://localhost:8080/"
        },
        "id": "Q7J_l-xoyzHC",
        "outputId": "b41675d6-9158-4d02-b2d7-56ce69563b9e"
      },
      "source": [
        "#Look at Classification Report\n",
        "print(classification_report(y_test, y_pred_rf))\n",
        "# Confusion Matrix\n",
        "cf_matrix=confusion_matrix(y_test, y_pred_rf)\n",
        "print(cf_matrix)"
      ],
      "execution_count": null,
      "outputs": [
        {
          "output_type": "stream",
          "text": [
            "              precision    recall  f1-score   support\n",
            "\n",
            "           0       1.00      1.00      1.00     85291\n",
            "           1       0.39      0.85      0.53       152\n",
            "\n",
            "    accuracy                           1.00     85443\n",
            "   macro avg       0.69      0.92      0.77     85443\n",
            "weighted avg       1.00      1.00      1.00     85443\n",
            "\n",
            "[[85088   203]\n",
            " [   23   129]]\n"
          ],
          "name": "stdout"
        }
      ]
    },
    {
      "cell_type": "code",
      "metadata": {
        "colab": {
          "base_uri": "https://localhost:8080/",
          "height": 335
        },
        "id": "X9XAP89myzx0",
        "outputId": "992550fa-7fe7-4a6d-831e-2a8952f13c56"
      },
      "source": [
        "#Visualize the confusion matrix using seaborn\n",
        "cf_matrix=confusion_matrix(y_test, y_pred_rf)\n",
        "group_names = ['True Neg','False Pos','False Neg','True Pos']\n",
        "group_counts = [\"{0:0.0f}\".format(value) for value in\n",
        "                cf_matrix.flatten()]\n",
        "group_percentages = [\"{0:.2%}\".format(value) for value in\n",
        "                     cf_matrix.flatten()/np.sum(cf_matrix)]\n",
        "labels = [f\"{v1}\\n{v2}\\n{v3}\" for v1, v2, v3 in\n",
        "          zip(group_names,group_counts,group_percentages)]\n",
        "labels = np.asarray(labels).reshape(2,2)\n",
        "sns.heatmap(cf_matrix, annot=labels, fmt='', cmap='YlGnBu')\n",
        "\n",
        "plt.title('Confusion matrix for Random Forest (PCA-1)', y=1.1)\n",
        "plt.ylabel('True')\n",
        "plt.xlabel('Predicted')"
      ],
      "execution_count": null,
      "outputs": [
        {
          "output_type": "execute_result",
          "data": {
            "text/plain": [
              "Text(0.5, 15.0, 'Predicted')"
            ]
          },
          "metadata": {
            "tags": []
          },
          "execution_count": 25
        },
        {
          "output_type": "display_data",
          "data": {
            "text/plain": [
              "<Figure size 432x288 with 2 Axes>"
            ],
            "image/png": "[encoded data removed]"
          },
          "metadata": {
            "tags": [],
            "needs_background": "light"
          }
        }
      ]
    },
    {
      "cell_type": "code",
      "metadata": {
        "colab": {
          "base_uri": "https://localhost:8080/",
          "height": 295
        },
        "id": "TdYMXi7Wy1xg",
        "outputId": "f42150fb-519b-464b-936e-95aadeffe60d"
      },
      "source": [
        "roc_plot_enhanced(rf_clf_pc1, X_test, y_test, \n",
        "                  title = 'Receiver Operating Characteristic for Random Forest Model (PCA-1)')"
      ],
      "execution_count": null,
      "outputs": [
        {
          "output_type": "display_data",
          "data": {
            "text/plain": [
              "<Figure size 432x288 with 1 Axes>"
            ],
            "image/png": "[encoded data removed]"
          },
          "metadata": {
            "tags": [],
            "needs_background": "light"
          }
        }
      ]
    },
    {
      "cell_type": "markdown",
      "metadata": {
        "id": "bXKbT3dwXE4J"
      },
      "source": [
        "### Neural Net, PCA-1 Augmented dataset"
      ]
    },
    {
      "cell_type": "code",
      "metadata": {
        "id": "O-09iwULy4PV"
      },
      "source": [
        "#Standardize the data\n",
        "pc1_scaled = preprocessing.scale(features_pc1)\n",
        "pc1_scaled = pd.DataFrame(pc1_scaled, columns=features_pc1.columns)\n",
        "pc1_scaled['Class'] = target\n",
        "\n",
        "pc1_features = pc1_scaled.drop(['Class'], axis = 1)\n",
        "target = pc1_scaled['Class']\n",
        "# Split dataset into training set and test set\n",
        "X_train, X_test, y_train, y_test = train_test_split(pc1_features, target, test_size=0.3, random_state=3)\n"
      ],
      "execution_count": null,
      "outputs": []
    },
    {
      "cell_type": "code",
      "metadata": {
        "colab": {
          "base_uri": "https://localhost:8080/",
          "height": 273
        },
        "id": "DRsi8ycny5Np",
        "outputId": "d795fac1-029a-426f-fd71-bb7d5f85e1f3"
      },
      "source": [
        "pc1_scaled.head()"
      ],
      "execution_count": null,
      "outputs": [
        {
          "output_type": "execute_result",
          "data": {
            "text/plain": [
              "       Time        V1        V2        V3        V4        V5        V6  \\\n",
              "0 -1.996583 -0.694242 -0.044075  1.672773  0.973366 -0.245117  0.347068   \n",
              "1 -1.996583  0.608496  0.161176  0.109797  0.316523  0.043483 -0.061820   \n",
              "2 -1.996562 -0.693500 -0.811578  1.169468  0.268231 -0.364572  1.351454   \n",
              "3 -1.996562 -0.493325 -0.112169  1.182516 -0.609727 -0.007469  0.936150   \n",
              "4 -1.996541 -0.591330  0.531541  1.021412  0.284655 -0.295015  0.071999   \n",
              "\n",
              "         V7        V8        V9  ...       V22       V23       V24       V25  \\\n",
              "0  0.193679  0.082637  0.331128  ...  0.382854 -0.176911  0.110507  0.246585   \n",
              "1 -0.063700  0.071253 -0.232494  ... -0.880077  0.162201 -0.561131  0.320694   \n",
              "2  0.639776  0.207373 -1.378675  ...  1.063358  1.456320 -1.138092 -0.628537   \n",
              "3  0.192071  0.316018 -1.262503  ...  0.007267 -0.304777 -1.941027  1.241904   \n",
              "4  0.479302 -0.226510  0.744326  ...  1.100011 -0.220123  0.233250 -0.395202   \n",
              "\n",
              "        V26       V27       V28    Amount  Recon Error  Class  \n",
              "0 -0.392170  0.330892 -0.063781  0.244964    -0.233949      0  \n",
              "1  0.261069 -0.022256  0.044608 -0.342475    -0.088329      0  \n",
              "2 -0.288447 -0.137137 -0.181021  1.160686     0.797720      0  \n",
              "3 -0.460217  0.155396  0.186189  0.140534    -0.323033      0  \n",
              "4  1.041611  0.543620  0.651816 -0.073403    -0.360891      0  \n",
              "\n",
              "[5 rows x 32 columns]"
            ],
            "text/html": [
              "<div>\n",
              "<style scoped>\n",
              "    .dataframe tbody tr th:only-of-type {\n",
              "        vertical-align: middle;\n",
              "    }\n",
              "\n",
              "    .dataframe tbody tr th {\n",
              "        vertical-align: top;\n",
              "    }\n",
              "\n",
              "    .dataframe thead th {\n",
              "        text-align: right;\n",
              "    }\n",
              "</style>\n",
              "<table border=\"1\" class=\"dataframe\">\n",
              "  <thead>\n",
              "    <tr style=\"text-align: right;\">\n",
              "      <th></th>\n",
              "      <th>Time</th>\n",
              "      <th>V1</th>\n",
              "      <th>V2</th>\n",
              "      <th>V3</th>\n",
              "      <th>V4</th>\n",
              "      <th>V5</th>\n",
              "      <th>V6</th>\n",
              "      <th>V7</th>\n",
              "      <th>V8</th>\n",
              "      <th>V9</th>\n",
              "      <th>...</th>\n",
              "      <th>V22</th>\n",
              "      <th>V23</th>\n",
              "      <th>V24</th>\n",
              "      <th>V25</th>\n",
              "      <th>V26</th>\n",
              "      <th>V27</th>\n",
              "      <th>V28</th>\n",
              "      <th>Amount</th>\n",
              "      <th>Recon Error</th>\n",
              "      <th>Class</th>\n",
              "    </tr>\n",
              "  </thead>\n",
              "  <tbody>\n",
              "    <tr>\n",
              "      <th>0</th>\n",
              "      <td>-1.996583</td>\n",
              "      <td>-0.694242</td>\n",
              "      <td>-0.044075</td>\n",
              "      <td>1.672773</td>\n",
              "      <td>0.973366</td>\n",
              "      <td>-0.245117</td>\n",
              "      <td>0.347068</td>\n",
              "      <td>0.193679</td>\n",
              "      <td>0.082637</td>\n",
              "      <td>0.331128</td>\n",
              "      <td>...</td>\n",
              "      <td>0.382854</td>\n",
              "      <td>-0.176911</td>\n",
              "      <td>0.110507</td>\n",
              "      <td>0.246585</td>\n",
              "      <td>-0.392170</td>\n",
              "      <td>0.330892</td>\n",
              "      <td>-0.063781</td>\n",
              "      <td>0.244964</td>\n",
              "      <td>-0.233949</td>\n",
              "      <td>0</td>\n",
              "    </tr>\n",
              "    <tr>\n",
              "      <th>1</th>\n",
              "      <td>-1.996583</td>\n",
              "      <td>0.608496</td>\n",
              "      <td>0.161176</td>\n",
              "      <td>0.109797</td>\n",
              "      <td>0.316523</td>\n",
              "      <td>0.043483</td>\n",
              "      <td>-0.061820</td>\n",
              "      <td>-0.063700</td>\n",
              "      <td>0.071253</td>\n",
              "      <td>-0.232494</td>\n",
              "      <td>...</td>\n",
              "      <td>-0.880077</td>\n",
              "      <td>0.162201</td>\n",
              "      <td>-0.561131</td>\n",
              "      <td>0.320694</td>\n",
              "      <td>0.261069</td>\n",
              "      <td>-0.022256</td>\n",
              "      <td>0.044608</td>\n",
              "      <td>-0.342475</td>\n",
              "      <td>-0.088329</td>\n",
              "      <td>0</td>\n",
              "    </tr>\n",
              "    <tr>\n",
              "      <th>2</th>\n",
              "      <td>-1.996562</td>\n",
              "      <td>-0.693500</td>\n",
              "      <td>-0.811578</td>\n",
              "      <td>1.169468</td>\n",
              "      <td>0.268231</td>\n",
              "      <td>-0.364572</td>\n",
              "      <td>1.351454</td>\n",
              "      <td>0.639776</td>\n",
              "      <td>0.207373</td>\n",
              "      <td>-1.378675</td>\n",
              "      <td>...</td>\n",
              "      <td>1.063358</td>\n",
              "      <td>1.456320</td>\n",
              "      <td>-1.138092</td>\n",
              "      <td>-0.628537</td>\n",
              "      <td>-0.288447</td>\n",
              "      <td>-0.137137</td>\n",
              "      <td>-0.181021</td>\n",
              "      <td>1.160686</td>\n",
              "      <td>0.797720</td>\n",
              "      <td>0</td>\n",
              "    </tr>\n",
              "    <tr>\n",
              "      <th>3</th>\n",
              "      <td>-1.996562</td>\n",
              "      <td>-0.493325</td>\n",
              "      <td>-0.112169</td>\n",
              "      <td>1.182516</td>\n",
              "      <td>-0.609727</td>\n",
              "      <td>-0.007469</td>\n",
              "      <td>0.936150</td>\n",
              "      <td>0.192071</td>\n",
              "      <td>0.316018</td>\n",
              "      <td>-1.262503</td>\n",
              "      <td>...</td>\n",
              "      <td>0.007267</td>\n",
              "      <td>-0.304777</td>\n",
              "      <td>-1.941027</td>\n",
              "      <td>1.241904</td>\n",
              "      <td>-0.460217</td>\n",
              "      <td>0.155396</td>\n",
              "      <td>0.186189</td>\n",
              "      <td>0.140534</td>\n",
              "      <td>-0.323033</td>\n",
              "      <td>0</td>\n",
              "    </tr>\n",
              "    <tr>\n",
              "      <th>4</th>\n",
              "      <td>-1.996541</td>\n",
              "      <td>-0.591330</td>\n",
              "      <td>0.531541</td>\n",
              "      <td>1.021412</td>\n",
              "      <td>0.284655</td>\n",
              "      <td>-0.295015</td>\n",
              "      <td>0.071999</td>\n",
              "      <td>0.479302</td>\n",
              "      <td>-0.226510</td>\n",
              "      <td>0.744326</td>\n",
              "      <td>...</td>\n",
              "      <td>1.100011</td>\n",
              "      <td>-0.220123</td>\n",
              "      <td>0.233250</td>\n",
              "      <td>-0.395202</td>\n",
              "      <td>1.041611</td>\n",
              "      <td>0.543620</td>\n",
              "      <td>0.651816</td>\n",
              "      <td>-0.073403</td>\n",
              "      <td>-0.360891</td>\n",
              "      <td>0</td>\n",
              "    </tr>\n",
              "  </tbody>\n",
              "</table>\n",
              "<p>5 rows × 32 columns</p>\n",
              "</div>"
            ]
          },
          "metadata": {
            "tags": []
          },
          "execution_count": 28
        }
      ]
    },
    {
      "cell_type": "code",
      "metadata": {
        "colab": {
          "base_uri": "https://localhost:8080/"
        },
        "id": "1ALPZGnky7IM",
        "outputId": "c2718a0d-fe08-403d-a96d-caa41f6ab035"
      },
      "source": [
        "#Neural Network Attempts\n",
        "#use a sequential class from Keras\n",
        "model_pc1 = Sequential()\n",
        "model_pc1.add(Dense(32, input_dim=31, activation='relu'))\n",
        "model_pc1.add(Dense(16, activation='relu'))\n",
        "model_pc1.add(Dense(1, activation='sigmoid'))\n",
        "\n",
        "#Use ‘adam’ optimizer and ‘binary crossentropy’ loss.\n",
        "model_pc1.compile(loss='binary_crossentropy', optimizer='adam', metrics=['accuracy'])\n",
        "\n",
        "#100 epochs\n",
        "start_time = time.time()\n",
        "model_pc1.fit(X_train, y_train, epochs=100)\n",
        "\n",
        "end_time = time.time()\n",
        "print(f'Process time: {((end_time-start_time)/60):.1f} minutes')"
      ],
      "execution_count": null,
      "outputs": [
        {
          "output_type": "stream",
          "text": [
            "Epoch 1/100\n",
            "6231/6231 [==============================] - 3s 471us/step - loss: 0.0123 - accuracy: 0.9968\n",
            "Epoch 2/100\n",
            "6231/6231 [==============================] - 3s 473us/step - loss: 0.0032 - accuracy: 0.9994\n",
            "Epoch 3/100\n",
            "6231/6231 [==============================] - 3s 475us/step - loss: 0.0028 - accuracy: 0.9994\n",
            "Epoch 4/100\n",
            "6231/6231 [==============================] - 3s 468us/step - loss: 0.0026 - accuracy: 0.9995\n",
            "Epoch 5/100\n",
            "6231/6231 [==============================] - 3s 465us/step - loss: 0.0024 - accuracy: 0.9994\n",
            "Epoch 6/100\n",
            "6231/6231 [==============================] - 3s 463us/step - loss: 0.0022 - accuracy: 0.9995\n",
            "Epoch 7/100\n",
            "6231/6231 [==============================] - 3s 459us/step - loss: 0.0021 - accuracy: 0.9995\n",
            "Epoch 8/100\n",
            "6231/6231 [==============================] - 3s 457us/step - loss: 0.0020 - accuracy: 0.9996\n",
            "Epoch 9/100\n",
            "6231/6231 [==============================] - 3s 468us/step - loss: 0.0018 - accuracy: 0.9996\n",
            "Epoch 10/100\n",
            "6231/6231 [==============================] - 3s 462us/step - loss: 0.0018 - accuracy: 0.9996\n",
            "Epoch 11/100\n",
            "6231/6231 [==============================] - 3s 473us/step - loss: 0.0017 - accuracy: 0.9996\n",
            "Epoch 12/100\n",
            "6231/6231 [==============================] - 3s 467us/step - loss: 0.0016 - accuracy: 0.9996\n",
            "Epoch 13/100\n",
            "6231/6231 [==============================] - 3s 473us/step - loss: 0.0017 - accuracy: 0.9996\n",
            "Epoch 14/100\n",
            "6231/6231 [==============================] - 3s 478us/step - loss: 0.0015 - accuracy: 0.9996\n",
            "Epoch 15/100\n",
            "6231/6231 [==============================] - 3s 467us/step - loss: 0.0015 - accuracy: 0.9996\n",
            "Epoch 16/100\n",
            "6231/6231 [==============================] - 3s 464us/step - loss: 0.0014 - accuracy: 0.9997\n",
            "Epoch 17/100\n",
            "6231/6231 [==============================] - 3s 484us/step - loss: 0.0014 - accuracy: 0.9997\n",
            "Epoch 18/100\n",
            "6231/6231 [==============================] - 3s 477us/step - loss: 0.0013 - accuracy: 0.9997\n",
            "Epoch 19/100\n",
            "6231/6231 [==============================] - 3s 472us/step - loss: 0.0012 - accuracy: 0.9997\n",
            "Epoch 20/100\n",
            "6231/6231 [==============================] - 3s 487us/step - loss: 0.0013 - accuracy: 0.9997\n",
            "Epoch 21/100\n",
            "6231/6231 [==============================] - 3s 470us/step - loss: 0.0012 - accuracy: 0.9997\n",
            "Epoch 22/100\n",
            "6231/6231 [==============================] - 3s 470us/step - loss: 0.0011 - accuracy: 0.9997\n",
            "Epoch 23/100\n",
            "6231/6231 [==============================] - 3s 474us/step - loss: 0.0012 - accuracy: 0.9996\n",
            "Epoch 24/100\n",
            "6231/6231 [==============================] - 3s 485us/step - loss: 0.0010 - accuracy: 0.9997\n",
            "Epoch 25/100\n",
            "6231/6231 [==============================] - 3s 480us/step - loss: 9.9608e-04 - accuracy: 0.9997\n",
            "Epoch 26/100\n",
            "6231/6231 [==============================] - 3s 469us/step - loss: 0.0011 - accuracy: 0.9997\n",
            "Epoch 27/100\n",
            "6231/6231 [==============================] - 3s 469us/step - loss: 9.9879e-04 - accuracy: 0.9997\n",
            "Epoch 28/100\n",
            "6231/6231 [==============================] - 3s 467us/step - loss: 0.0010 - accuracy: 0.9997\n",
            "Epoch 29/100\n",
            "6231/6231 [==============================] - 3s 468us/step - loss: 9.2757e-04 - accuracy: 0.9997\n",
            "Epoch 30/100\n",
            "6231/6231 [==============================] - 3s 468us/step - loss: 9.0704e-04 - accuracy: 0.9997\n",
            "Epoch 31/100\n",
            "6231/6231 [==============================] - 3s 474us/step - loss: 8.5448e-04 - accuracy: 0.9997\n",
            "Epoch 32/100\n",
            "6231/6231 [==============================] - 3s 466us/step - loss: 9.1489e-04 - accuracy: 0.9997\n",
            "Epoch 33/100\n",
            "6231/6231 [==============================] - 3s 469us/step - loss: 7.5409e-04 - accuracy: 0.9998\n",
            "Epoch 34/100\n",
            "6231/6231 [==============================] - 3s 465us/step - loss: 7.9499e-04 - accuracy: 0.9998\n",
            "Epoch 35/100\n",
            "6231/6231 [==============================] - 3s 469us/step - loss: 7.5424e-04 - accuracy: 0.9998\n",
            "Epoch 36/100\n",
            "6231/6231 [==============================] - 3s 477us/step - loss: 8.2324e-04 - accuracy: 0.9997\n",
            "Epoch 37/100\n",
            "6231/6231 [==============================] - 3s 463us/step - loss: 7.9736e-04 - accuracy: 0.9998\n",
            "Epoch 38/100\n",
            "6231/6231 [==============================] - 3s 466us/step - loss: 7.5371e-04 - accuracy: 0.9998\n",
            "Epoch 39/100\n",
            "6231/6231 [==============================] - 3s 470us/step - loss: 6.7310e-04 - accuracy: 0.9998\n",
            "Epoch 40/100\n",
            "6231/6231 [==============================] - 3s 465us/step - loss: 7.0704e-04 - accuracy: 0.9998\n",
            "Epoch 41/100\n",
            "6231/6231 [==============================] - 3s 469us/step - loss: 7.0806e-04 - accuracy: 0.9998\n",
            "Epoch 42/100\n",
            "6231/6231 [==============================] - 3s 472us/step - loss: 6.8929e-04 - accuracy: 0.9998\n",
            "Epoch 43/100\n",
            "6231/6231 [==============================] - 3s 467us/step - loss: 7.7912e-04 - accuracy: 0.9998\n",
            "Epoch 44/100\n",
            "6231/6231 [==============================] - 3s 471us/step - loss: 6.7034e-04 - accuracy: 0.9998\n",
            "Epoch 45/100\n",
            "6231/6231 [==============================] - 3s 470us/step - loss: 5.9962e-04 - accuracy: 0.9998\n",
            "Epoch 46/100\n",
            "6231/6231 [==============================] - 3s 471us/step - loss: 6.8213e-04 - accuracy: 0.9998\n",
            "Epoch 47/100\n",
            "6231/6231 [==============================] - 3s 481us/step - loss: 6.6097e-04 - accuracy: 0.9998\n",
            "Epoch 48/100\n",
            "6231/6231 [==============================] - 3s 468us/step - loss: 5.8198e-04 - accuracy: 0.9998\n",
            "Epoch 49/100\n",
            "6231/6231 [==============================] - 3s 466us/step - loss: 5.4860e-04 - accuracy: 0.9998\n",
            "Epoch 50/100\n",
            "6231/6231 [==============================] - 3s 471us/step - loss: 5.2768e-04 - accuracy: 0.9998\n",
            "Epoch 51/100\n",
            "6231/6231 [==============================] - 3s 467us/step - loss: 7.1937e-04 - accuracy: 0.9998\n",
            "Epoch 52/100\n",
            "6231/6231 [==============================] - 3s 474us/step - loss: 4.6977e-04 - accuracy: 0.9998\n",
            "Epoch 53/100\n",
            "6231/6231 [==============================] - 3s 472us/step - loss: 5.7033e-04 - accuracy: 0.9998\n",
            "Epoch 54/100\n",
            "6231/6231 [==============================] - 3s 469us/step - loss: 7.2627e-04 - accuracy: 0.9998\n",
            "Epoch 55/100\n",
            "6231/6231 [==============================] - 3s 470us/step - loss: 5.7044e-04 - accuracy: 0.9998\n",
            "Epoch 56/100\n",
            "6231/6231 [==============================] - 3s 469us/step - loss: 7.5440e-04 - accuracy: 0.9998\n",
            "Epoch 57/100\n",
            "6231/6231 [==============================] - 3s 472us/step - loss: 5.9682e-04 - accuracy: 0.9998\n",
            "Epoch 58/100\n",
            "6231/6231 [==============================] - 3s 476us/step - loss: 4.6479e-04 - accuracy: 0.9998\n",
            "Epoch 59/100\n",
            "6231/6231 [==============================] - 3s 468us/step - loss: 4.9886e-04 - accuracy: 0.9998\n",
            "Epoch 60/100\n",
            "6231/6231 [==============================] - 3s 468us/step - loss: 6.0106e-04 - accuracy: 0.9999\n",
            "Epoch 61/100\n",
            "6231/6231 [==============================] - 3s 467us/step - loss: 5.7395e-04 - accuracy: 0.9999\n",
            "Epoch 62/100\n",
            "6231/6231 [==============================] - 3s 468us/step - loss: 6.9043e-04 - accuracy: 0.9998\n",
            "Epoch 63/100\n",
            "6231/6231 [==============================] - 3s 480us/step - loss: 4.0884e-04 - accuracy: 0.9998\n",
            "Epoch 64/100\n",
            "6231/6231 [==============================] - 3s 476us/step - loss: 6.0375e-04 - accuracy: 0.9999\n",
            "Epoch 65/100\n",
            "6231/6231 [==============================] - 3s 474us/step - loss: 4.3462e-04 - accuracy: 0.9999\n",
            "Epoch 66/100\n",
            "6231/6231 [==============================] - 3s 549us/step - loss: 5.9543e-04 - accuracy: 0.9998\n",
            "Epoch 67/100\n",
            "6231/6231 [==============================] - 3s 489us/step - loss: 4.1328e-04 - accuracy: 0.9998\n",
            "Epoch 68/100\n",
            "6231/6231 [==============================] - 3s 486us/step - loss: 4.5528e-04 - accuracy: 0.9999\n",
            "Epoch 69/100\n",
            "6231/6231 [==============================] - 3s 485us/step - loss: 6.8044e-04 - accuracy: 0.9998\n",
            "Epoch 70/100\n",
            "6231/6231 [==============================] - 3s 464us/step - loss: 5.5632e-04 - accuracy: 0.9998\n",
            "Epoch 71/100\n",
            "6231/6231 [==============================] - 3s 457us/step - loss: 4.5669e-04 - accuracy: 0.9999\n",
            "Epoch 72/100\n",
            "6231/6231 [==============================] - 3s 467us/step - loss: 5.5664e-04 - accuracy: 0.9998\n",
            "Epoch 73/100\n",
            "6231/6231 [==============================] - 3s 468us/step - loss: 4.4324e-04 - accuracy: 0.9999\n",
            "Epoch 74/100\n",
            "6231/6231 [==============================] - 3s 500us/step - loss: 6.5710e-04 - accuracy: 0.9999\n",
            "Epoch 75/100\n",
            "6231/6231 [==============================] - 3s 494us/step - loss: 6.0264e-04 - accuracy: 0.9998\n",
            "Epoch 76/100\n",
            "6231/6231 [==============================] - 3s 469us/step - loss: 5.3798e-04 - accuracy: 0.9998\n",
            "Epoch 77/100\n",
            "6231/6231 [==============================] - 3s 464us/step - loss: 4.5289e-04 - accuracy: 0.9999\n",
            "Epoch 78/100\n",
            "6231/6231 [==============================] - 3s 462us/step - loss: 3.2100e-04 - accuracy: 0.9999\n",
            "Epoch 79/100\n",
            "6231/6231 [==============================] - 3s 474us/step - loss: 5.4866e-04 - accuracy: 0.9999\n",
            "Epoch 80/100\n",
            "6231/6231 [==============================] - 3s 470us/step - loss: 4.3252e-04 - accuracy: 0.9999\n",
            "Epoch 81/100\n",
            "6231/6231 [==============================] - 3s 480us/step - loss: 4.7199e-04 - accuracy: 0.9999\n",
            "Epoch 82/100\n",
            "6231/6231 [==============================] - 3s 474us/step - loss: 5.6697e-04 - accuracy: 0.9998\n",
            "Epoch 83/100\n",
            "6231/6231 [==============================] - 3s 470us/step - loss: 3.8039e-04 - accuracy: 0.9999\n",
            "Epoch 84/100\n",
            "6231/6231 [==============================] - 3s 466us/step - loss: 3.6485e-04 - accuracy: 0.9999\n",
            "Epoch 85/100\n",
            "6231/6231 [==============================] - 3s 480us/step - loss: 4.2337e-04 - accuracy: 0.9999\n",
            "Epoch 86/100\n",
            "6231/6231 [==============================] - 3s 478us/step - loss: 3.5456e-04 - accuracy: 0.9999\n",
            "Epoch 87/100\n",
            "6231/6231 [==============================] - 3s 477us/step - loss: 3.9254e-04 - accuracy: 0.9999\n",
            "Epoch 88/100\n",
            "6231/6231 [==============================] - 3s 469us/step - loss: 3.3733e-04 - accuracy: 0.9999\n",
            "Epoch 89/100\n",
            "6231/6231 [==============================] - 3s 471us/step - loss: 4.1515e-04 - accuracy: 0.9999\n",
            "Epoch 90/100\n",
            "6231/6231 [==============================] - 3s 480us/step - loss: 3.3663e-04 - accuracy: 0.9999\n",
            "Epoch 91/100\n",
            "6231/6231 [==============================] - 3s 475us/step - loss: 5.4920e-04 - accuracy: 0.9999\n",
            "Epoch 92/100\n",
            "6231/6231 [==============================] - 3s 482us/step - loss: 4.2223e-04 - accuracy: 0.9999\n",
            "Epoch 93/100\n",
            "6231/6231 [==============================] - 3s 474us/step - loss: 3.4227e-04 - accuracy: 0.9999\n",
            "Epoch 94/100\n",
            "6231/6231 [==============================] - 3s 475us/step - loss: 3.3590e-04 - accuracy: 0.9999\n",
            "Epoch 95/100\n",
            "6231/6231 [==============================] - 3s 473us/step - loss: 3.8962e-04 - accuracy: 0.9999\n",
            "Epoch 96/100\n",
            "6231/6231 [==============================] - 3s 489us/step - loss: 4.6646e-04 - accuracy: 0.9999\n",
            "Epoch 97/100\n",
            "6231/6231 [==============================] - 3s 470us/step - loss: 4.3133e-04 - accuracy: 0.9999\n",
            "Epoch 98/100\n",
            "6231/6231 [==============================] - 3s 469us/step - loss: 3.0634e-04 - accuracy: 0.9999\n",
            "Epoch 99/100\n",
            "6231/6231 [==============================] - 3s 469us/step - loss: 3.7997e-04 - accuracy: 0.9999\n",
            "Epoch 100/100\n",
            "6231/6231 [==============================] - 3s 474us/step - loss: 3.4340e-04 - accuracy: 0.9999\n",
            "Process time: 4.9 minutes\n"
          ],
          "name": "stdout"
        }
      ]
    },
    {
      "cell_type": "code",
      "metadata": {
        "colab": {
          "base_uri": "https://localhost:8080/"
        },
        "id": "MbE-T2wJy838",
        "outputId": "0467f295-b116-4234-fa79-cd0ddfb556e5"
      },
      "source": [
        "#Predict the response for test dataset\n",
        "y_test_pred = model_pc1.predict_classes(X_test)\n",
        "\n",
        "#Find the accuracy, precision, and recall\n",
        "print(\"Neural Network Accuracy:\", metrics.accuracy_score(y_test, y_test_pred))\n",
        "print(\"Neural Network Precision:\", metrics.precision_score(y_test, y_test_pred))\n",
        "print(\"Neural Network Recall:\", metrics.recall_score(y_test, y_test_pred))"
      ],
      "execution_count": null,
      "outputs": [
        {
          "output_type": "stream",
          "text": [
            "Neural Network Accuracy: 0.9992977774656788\n",
            "Neural Network Precision: 0.8108108108108109\n",
            "Neural Network Recall: 0.7894736842105263\n"
          ],
          "name": "stdout"
        }
      ]
    },
    {
      "cell_type": "code",
      "metadata": {
        "colab": {
          "base_uri": "https://localhost:8080/"
        },
        "id": "9904oZ2qy9vN",
        "outputId": "8c93ae6f-5917-47f5-deaa-444b01ccd3eb"
      },
      "source": [
        "print(classification_report(y_test, y_test_pred))\n",
        "# Confusion Matrix\n",
        "cf_matrix=confusion_matrix(y_test, y_test_pred)\n",
        "print(cf_matrix)"
      ],
      "execution_count": null,
      "outputs": [
        {
          "output_type": "stream",
          "text": [
            "              precision    recall  f1-score   support\n",
            "\n",
            "           0       1.00      1.00      1.00     85291\n",
            "           1       0.81      0.79      0.80       152\n",
            "\n",
            "    accuracy                           1.00     85443\n",
            "   macro avg       0.91      0.89      0.90     85443\n",
            "weighted avg       1.00      1.00      1.00     85443\n",
            "\n",
            "[[85263    28]\n",
            " [   32   120]]\n"
          ],
          "name": "stdout"
        }
      ]
    },
    {
      "cell_type": "code",
      "metadata": {
        "colab": {
          "base_uri": "https://localhost:8080/",
          "height": 335
        },
        "id": "TFCqlrLMy-kS",
        "outputId": "dba7ab61-edb6-4172-9ee8-119000b4cf3f"
      },
      "source": [
        "#Visualize the confusion matrix using seaborn\n",
        "cf_matrix=confusion_matrix(y_test, y_test_pred)\n",
        "group_names = ['True Neg','False Pos','False Neg','True Pos']\n",
        "group_counts = [\"{0:0.0f}\".format(value) for value in\n",
        "                cf_matrix.flatten()]\n",
        "group_percentages = [\"{0:.2%}\".format(value) for value in\n",
        "                     cf_matrix.flatten()/np.sum(cf_matrix)]\n",
        "labels = [f\"{v1}\\n{v2}\\n{v3}\" for v1, v2, v3 in\n",
        "          zip(group_names,group_counts,group_percentages)]\n",
        "labels = np.asarray(labels).reshape(2,2)\n",
        "sns.heatmap(cf_matrix, annot=labels, fmt='', cmap='YlGnBu')\n",
        "\n",
        "plt.title('Confusion matrix for Neural Network (PCA-1)', y=1.1)\n",
        "plt.ylabel('True')\n",
        "plt.xlabel('Predicted')"
      ],
      "execution_count": null,
      "outputs": [
        {
          "output_type": "execute_result",
          "data": {
            "text/plain": [
              "Text(0.5, 15.0, 'Predicted')"
            ]
          },
          "metadata": {
            "tags": []
          },
          "execution_count": 32
        },
        {
          "output_type": "display_data",
          "data": {
            "text/plain": [
              "<Figure size 432x288 with 2 Axes>"
            ],
            "image/png": "[encoded data removed]"
          },
          "metadata": {
            "tags": [],
            "needs_background": "light"
          }
        }
      ]
    },
    {
      "cell_type": "code",
      "metadata": {
        "colab": {
          "base_uri": "https://localhost:8080/",
          "height": 295
        },
        "id": "JC08MEFczAde",
        "outputId": "933ae98a-68d9-4e7e-9054-96a6ed5fec39"
      },
      "source": [
        "# Manually plot ROC curve\n",
        "\n",
        "y_test_prob = model_pc1.predict(X_test)\n",
        "false_positive, true_positive, threshold = metrics.roc_curve(y_test, y_test_prob, \n",
        "                                                             drop_intermediate = False)\n",
        "\n",
        "roc_auc = metrics.auc(false_positive, true_positive)\n",
        "\n",
        "plt.title('Receiver Operating Characteristic for Neural Network Model (PCA-1)')\n",
        "plt.plot(false_positive, true_positive, label = f'Neural Network (AUC = {roc_auc:0.2f})')\n",
        "plt.legend(loc = 'lower right')\n",
        "# Plot baseline ROC curve\n",
        "plt.plot([0,1],[0,1],c = 'black', linestyle = 'dashed')\n",
        "# Plot line at TPR = 1.0 to illustrate the FPR at which the ROC curve intersects\n",
        "plt.hlines(1.0, 0, 1, colors = 'red', linestyles = 'dashed', alpha = 0.5)\n",
        "\n",
        "\n",
        "plt.xlim([0,1])\n",
        "plt.xlabel('False Positive Rate')\n",
        "\n",
        "plt.ylim([0,1.1])\n",
        "plt.ylabel('True Positive Rate')\n",
        "\n",
        "\n",
        "plt.show()"
      ],
      "execution_count": null,
      "outputs": [
        {
          "output_type": "display_data",
          "data": {
            "text/plain": [
              "<Figure size 432x288 with 1 Axes>"
            ],
            "image/png": "[encoded data removed]"
          },
          "metadata": {
            "tags": [],
            "needs_background": "light"
          }
        }
      ]
    }
  ]
}